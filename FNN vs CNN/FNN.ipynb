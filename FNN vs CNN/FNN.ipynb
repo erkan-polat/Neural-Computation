{
  "nbformat": 4,
  "nbformat_minor": 0,
  "metadata": {
    "colab": {
      "name": "FNN",
      "provenance": [],
      "collapsed_sections": []
    },
    "kernelspec": {
      "name": "python3",
      "display_name": "Python 3"
    },
    "language_info": {
      "name": "python"
    }
  },
  "cells": [
    {
      "cell_type": "code",
      "execution_count": null,
      "metadata": {
        "colab": {
          "base_uri": "https://localhost:8080/"
        },
        "id": "HQUYZ2BXUKL5",
        "outputId": "051992fe-a569-410f-f0f8-0c743c73ef79"
      },
      "outputs": [
        {
          "output_type": "stream",
          "name": "stdout",
          "text": [
            "2.8.2\n"
          ]
        }
      ],
      "source": [
        "import tarfile\n",
        "import os\n",
        "import tensorflow as tf\n",
        "\n",
        "# Helper libraries\n",
        "import numpy as np\n",
        "import matplotlib.pyplot as plt\n",
        "\n",
        "print(tf.__version__)\n",
        "\n",
        "import cv2\n",
        "import pandas as pd\n",
        "import numpy as np\n",
        "import matplotlib.pyplot as plt\n",
        "import matplotlib.image as mpimg\n",
        "from sklearn.preprocessing import LabelEncoder\n",
        "from keras.utils import np_utils\n",
        "from keras import Sequential\n",
        "from keras.layers import Dense"
      ]
    },
    {
      "cell_type": "code",
      "source": [
        "mnist = tf.keras.datasets.mnist\n",
        "\n",
        "(X_train, y_train), (X_test, y_test) = mnist.load_data() "
      ],
      "metadata": {
        "id": "BavYLNYuUb--",
        "colab": {
          "base_uri": "https://localhost:8080/"
        },
        "outputId": "0668d5f2-ed95-4df4-8ffa-5c39562933f5"
      },
      "execution_count": null,
      "outputs": [
        {
          "output_type": "stream",
          "name": "stdout",
          "text": [
            "Downloading data from https://storage.googleapis.com/tensorflow/tf-keras-datasets/mnist.npz\n",
            "11493376/11490434 [==============================] - 0s 0us/step\n",
            "11501568/11490434 [==============================] - 0s 0us/step\n"
          ]
        }
      ]
    },
    {
      "cell_type": "code",
      "source": [
        "print(X_train.shape)"
      ],
      "metadata": {
        "colab": {
          "base_uri": "https://localhost:8080/"
        },
        "id": "5u8nLezjUZX7",
        "outputId": "5dcafe88-b7b0-41cb-d4a8-383b59f5d607"
      },
      "execution_count": null,
      "outputs": [
        {
          "output_type": "stream",
          "name": "stdout",
          "text": [
            "(60000, 28, 28)\n"
          ]
        }
      ]
    },
    {
      "cell_type": "code",
      "source": [
        "len(y_train)\n"
      ],
      "metadata": {
        "colab": {
          "base_uri": "https://localhost:8080/"
        },
        "id": "CpLmTMezUwhY",
        "outputId": "621cc98e-132f-4d1a-8aed-26f84a026846"
      },
      "execution_count": null,
      "outputs": [
        {
          "output_type": "execute_result",
          "data": {
            "text/plain": [
              "60000"
            ]
          },
          "metadata": {},
          "execution_count": 7
        }
      ]
    },
    {
      "cell_type": "code",
      "source": [
        "y_train"
      ],
      "metadata": {
        "colab": {
          "base_uri": "https://localhost:8080/"
        },
        "id": "6ir6lugGUzgY",
        "outputId": "162eefe3-01a3-4d6e-ea97-056df07ac608"
      },
      "execution_count": null,
      "outputs": [
        {
          "output_type": "execute_result",
          "data": {
            "text/plain": [
              "array([5, 0, 4, ..., 5, 6, 8], dtype=uint8)"
            ]
          },
          "metadata": {},
          "execution_count": 8
        }
      ]
    },
    {
      "cell_type": "code",
      "source": [
        "X_test.shape"
      ],
      "metadata": {
        "colab": {
          "base_uri": "https://localhost:8080/"
        },
        "id": "KY9J3Gt_U0AL",
        "outputId": "822a59ed-9032-499a-d49a-2469d62f3791"
      },
      "execution_count": null,
      "outputs": [
        {
          "output_type": "execute_result",
          "data": {
            "text/plain": [
              "(10000, 28, 28)"
            ]
          },
          "metadata": {},
          "execution_count": 9
        }
      ]
    },
    {
      "cell_type": "code",
      "source": [
        "len(y_test)"
      ],
      "metadata": {
        "colab": {
          "base_uri": "https://localhost:8080/"
        },
        "id": "xY7wejzbWjoN",
        "outputId": "7711d059-b5a5-4878-b1d8-5d0513c801d4"
      },
      "execution_count": null,
      "outputs": [
        {
          "output_type": "execute_result",
          "data": {
            "text/plain": [
              "10000"
            ]
          },
          "metadata": {},
          "execution_count": 10
        }
      ]
    },
    {
      "cell_type": "code",
      "source": [
        "X_train = X_train / 255.0"
      ],
      "metadata": {
        "id": "USpEACm4YP0M"
      },
      "execution_count": null,
      "outputs": []
    },
    {
      "cell_type": "code",
      "source": [
        "X_test = X_test / 255.0"
      ],
      "metadata": {
        "id": "g0a09hhpYQFx"
      },
      "execution_count": null,
      "outputs": []
    },
    {
      "cell_type": "code",
      "source": [
        "model = tf.keras.Sequential([\n",
        "\n",
        "         tf.keras.layers.Flatten(input_shape = (28,28,1)),\n",
        "         tf.keras.layers.Dense(512, activation='relu'),\n",
        "\n",
        "         ])"
      ],
      "metadata": {
        "id": "AEXK6twRWlYV"
      },
      "execution_count": null,
      "outputs": []
    },
    {
      "cell_type": "code",
      "source": [
        "model.compile(optimizer='adam',\n",
        "              loss=tf.keras.losses.SparseCategoricalCrossentropy(from_logits=True),\n",
        "              metrics=['accuracy'])"
      ],
      "metadata": {
        "id": "bgU4kkacYhEl"
      },
      "execution_count": null,
      "outputs": []
    },
    {
      "cell_type": "code",
      "source": [
        "model.summary()"
      ],
      "metadata": {
        "colab": {
          "base_uri": "https://localhost:8080/"
        },
        "id": "dOxmYBD-XWyf",
        "outputId": "0b9c7b1a-2af3-4315-e0be-c7b2be4a167a"
      },
      "execution_count": null,
      "outputs": [
        {
          "output_type": "stream",
          "name": "stdout",
          "text": [
            "Model: \"sequential\"\n",
            "_________________________________________________________________\n",
            " Layer (type)                Output Shape              Param #   \n",
            "=================================================================\n",
            " flatten (Flatten)           (None, 784)               0         \n",
            "                                                                 \n",
            " dense (Dense)               (None, 512)               401920    \n",
            "                                                                 \n",
            "=================================================================\n",
            "Total params: 401,920\n",
            "Trainable params: 401,920\n",
            "Non-trainable params: 0\n",
            "_________________________________________________________________\n"
          ]
        }
      ]
    },
    {
      "cell_type": "code",
      "source": [
        "H = model.fit(X_train, y_train, validation_data=(X_test, y_test) ,epochs=50,verbose=1)"
      ],
      "metadata": {
        "colab": {
          "base_uri": "https://localhost:8080/"
        },
        "id": "Cu2kpk8EXgKp",
        "outputId": "dbe1264c-9227-45ae-8984-801f67b127cc"
      },
      "execution_count": null,
      "outputs": [
        {
          "output_type": "stream",
          "name": "stdout",
          "text": [
            "Epoch 1/50\n",
            "1875/1875 [==============================] - 12s 6ms/step - loss: 0.6401 - accuracy: 0.8671 - val_loss: 0.3132 - val_accuracy: 0.9166\n",
            "Epoch 2/50\n",
            "1875/1875 [==============================] - 11s 6ms/step - loss: 0.3083 - accuracy: 0.9158 - val_loss: 0.2848 - val_accuracy: 0.9215\n",
            "Epoch 3/50\n",
            "1875/1875 [==============================] - 10s 6ms/step - loss: 0.2857 - accuracy: 0.9210 - val_loss: 0.2794 - val_accuracy: 0.9247\n",
            "Epoch 4/50\n",
            "1875/1875 [==============================] - 11s 6ms/step - loss: 0.2745 - accuracy: 0.9239 - val_loss: 0.2688 - val_accuracy: 0.9272\n",
            "Epoch 5/50\n",
            "1875/1875 [==============================] - 11s 6ms/step - loss: 0.2675 - accuracy: 0.9257 - val_loss: 0.2712 - val_accuracy: 0.9239\n",
            "Epoch 6/50\n",
            "1875/1875 [==============================] - 10s 6ms/step - loss: 0.2629 - accuracy: 0.9271 - val_loss: 0.2647 - val_accuracy: 0.9265\n",
            "Epoch 7/50\n",
            "1875/1875 [==============================] - 12s 6ms/step - loss: 0.2586 - accuracy: 0.9282 - val_loss: 0.2677 - val_accuracy: 0.9249\n",
            "Epoch 8/50\n",
            "1875/1875 [==============================] - 11s 6ms/step - loss: 0.2558 - accuracy: 0.9299 - val_loss: 0.2682 - val_accuracy: 0.9252\n",
            "Epoch 9/50\n",
            "1875/1875 [==============================] - 11s 6ms/step - loss: 0.2533 - accuracy: 0.9301 - val_loss: 0.2658 - val_accuracy: 0.9283\n",
            "Epoch 10/50\n",
            "1875/1875 [==============================] - 11s 6ms/step - loss: 0.2510 - accuracy: 0.9306 - val_loss: 0.2649 - val_accuracy: 0.9280\n",
            "Epoch 11/50\n",
            "1875/1875 [==============================] - 10s 5ms/step - loss: 0.2497 - accuracy: 0.9317 - val_loss: 0.2672 - val_accuracy: 0.9267\n",
            "Epoch 12/50\n",
            "1875/1875 [==============================] - 10s 6ms/step - loss: 0.2477 - accuracy: 0.9318 - val_loss: 0.2652 - val_accuracy: 0.9255\n",
            "Epoch 13/50\n",
            "1875/1875 [==============================] - 10s 5ms/step - loss: 0.2462 - accuracy: 0.9318 - val_loss: 0.2665 - val_accuracy: 0.9271\n",
            "Epoch 14/50\n",
            "1875/1875 [==============================] - 11s 6ms/step - loss: 0.2454 - accuracy: 0.9325 - val_loss: 0.2697 - val_accuracy: 0.9259\n",
            "Epoch 15/50\n",
            "1875/1875 [==============================] - 11s 6ms/step - loss: 0.2439 - accuracy: 0.9333 - val_loss: 0.2673 - val_accuracy: 0.9269\n",
            "Epoch 16/50\n",
            "1875/1875 [==============================] - 10s 5ms/step - loss: 0.2431 - accuracy: 0.9332 - val_loss: 0.2697 - val_accuracy: 0.9250\n",
            "Epoch 17/50\n",
            "1875/1875 [==============================] - 10s 5ms/step - loss: 0.2420 - accuracy: 0.9337 - val_loss: 0.2675 - val_accuracy: 0.9280\n",
            "Epoch 18/50\n",
            "1875/1875 [==============================] - 10s 6ms/step - loss: 0.2411 - accuracy: 0.9331 - val_loss: 0.2695 - val_accuracy: 0.9285\n",
            "Epoch 19/50\n",
            "1875/1875 [==============================] - 10s 6ms/step - loss: 0.2402 - accuracy: 0.9338 - val_loss: 0.2664 - val_accuracy: 0.9272\n",
            "Epoch 20/50\n",
            "1875/1875 [==============================] - 11s 6ms/step - loss: 0.2394 - accuracy: 0.9340 - val_loss: 0.2714 - val_accuracy: 0.9261\n",
            "Epoch 21/50\n",
            "1875/1875 [==============================] - 10s 5ms/step - loss: 0.2393 - accuracy: 0.9337 - val_loss: 0.2679 - val_accuracy: 0.9277\n",
            "Epoch 22/50\n",
            "1875/1875 [==============================] - 11s 6ms/step - loss: 0.2381 - accuracy: 0.9347 - val_loss: 0.2708 - val_accuracy: 0.9289\n",
            "Epoch 23/50\n",
            "1875/1875 [==============================] - 11s 6ms/step - loss: 0.2374 - accuracy: 0.9348 - val_loss: 0.2740 - val_accuracy: 0.9273\n",
            "Epoch 24/50\n",
            "1875/1875 [==============================] - 10s 6ms/step - loss: 0.2373 - accuracy: 0.9351 - val_loss: 0.2708 - val_accuracy: 0.9279\n",
            "Epoch 25/50\n",
            "1875/1875 [==============================] - 10s 6ms/step - loss: 0.2365 - accuracy: 0.9355 - val_loss: 0.2729 - val_accuracy: 0.9262\n",
            "Epoch 26/50\n",
            "1875/1875 [==============================] - 11s 6ms/step - loss: 0.2364 - accuracy: 0.9348 - val_loss: 0.2723 - val_accuracy: 0.9266\n",
            "Epoch 27/50\n",
            "1875/1875 [==============================] - 11s 6ms/step - loss: 0.2349 - accuracy: 0.9350 - val_loss: 0.2760 - val_accuracy: 0.9253\n",
            "Epoch 28/50\n",
            "1875/1875 [==============================] - 10s 6ms/step - loss: 0.2352 - accuracy: 0.9345 - val_loss: 0.2737 - val_accuracy: 0.9290\n",
            "Epoch 29/50\n",
            "1875/1875 [==============================] - 10s 5ms/step - loss: 0.2340 - accuracy: 0.9348 - val_loss: 0.2760 - val_accuracy: 0.9277\n",
            "Epoch 30/50\n",
            "1875/1875 [==============================] - 10s 6ms/step - loss: 0.2342 - accuracy: 0.9353 - val_loss: 0.2724 - val_accuracy: 0.9278\n",
            "Epoch 31/50\n",
            "1875/1875 [==============================] - 11s 6ms/step - loss: 0.2335 - accuracy: 0.9358 - val_loss: 0.2753 - val_accuracy: 0.9272\n",
            "Epoch 32/50\n",
            "1875/1875 [==============================] - 11s 6ms/step - loss: 0.2334 - accuracy: 0.9355 - val_loss: 0.2746 - val_accuracy: 0.9274\n",
            "Epoch 33/50\n",
            "1875/1875 [==============================] - 11s 6ms/step - loss: 0.2330 - accuracy: 0.9354 - val_loss: 0.2741 - val_accuracy: 0.9289\n",
            "Epoch 34/50\n",
            "1875/1875 [==============================] - 10s 5ms/step - loss: 0.2324 - accuracy: 0.9359 - val_loss: 0.2786 - val_accuracy: 0.9279\n",
            "Epoch 35/50\n",
            "1875/1875 [==============================] - 11s 6ms/step - loss: 0.2319 - accuracy: 0.9362 - val_loss: 0.2753 - val_accuracy: 0.9284\n",
            "Epoch 36/50\n",
            "1875/1875 [==============================] - 11s 6ms/step - loss: 0.2318 - accuracy: 0.9360 - val_loss: 0.2792 - val_accuracy: 0.9262\n",
            "Epoch 37/50\n",
            "1875/1875 [==============================] - 12s 6ms/step - loss: 0.2315 - accuracy: 0.9362 - val_loss: 0.2784 - val_accuracy: 0.9290\n",
            "Epoch 38/50\n",
            "1875/1875 [==============================] - 11s 6ms/step - loss: 0.2309 - accuracy: 0.9365 - val_loss: 0.2809 - val_accuracy: 0.9280\n",
            "Epoch 39/50\n",
            "1875/1875 [==============================] - 11s 6ms/step - loss: 0.2310 - accuracy: 0.9365 - val_loss: 0.2783 - val_accuracy: 0.9283\n",
            "Epoch 40/50\n",
            "1875/1875 [==============================] - 11s 6ms/step - loss: 0.2306 - accuracy: 0.9359 - val_loss: 0.2791 - val_accuracy: 0.9275\n",
            "Epoch 41/50\n",
            "1875/1875 [==============================] - 11s 6ms/step - loss: 0.2302 - accuracy: 0.9368 - val_loss: 0.2864 - val_accuracy: 0.9246\n",
            "Epoch 42/50\n",
            "1875/1875 [==============================] - 12s 6ms/step - loss: 0.2297 - accuracy: 0.9363 - val_loss: 0.2861 - val_accuracy: 0.9235\n",
            "Epoch 43/50\n",
            "1875/1875 [==============================] - 11s 6ms/step - loss: 0.2301 - accuracy: 0.9363 - val_loss: 0.2808 - val_accuracy: 0.9276\n",
            "Epoch 44/50\n",
            "1875/1875 [==============================] - 11s 6ms/step - loss: 0.2293 - accuracy: 0.9363 - val_loss: 0.2863 - val_accuracy: 0.9256\n",
            "Epoch 45/50\n",
            "1875/1875 [==============================] - 10s 6ms/step - loss: 0.2286 - accuracy: 0.9373 - val_loss: 0.2806 - val_accuracy: 0.9266\n",
            "Epoch 46/50\n",
            "1875/1875 [==============================] - 11s 6ms/step - loss: 0.2289 - accuracy: 0.9366 - val_loss: 0.2824 - val_accuracy: 0.9282\n",
            "Epoch 47/50\n",
            "1875/1875 [==============================] - 11s 6ms/step - loss: 0.2285 - accuracy: 0.9373 - val_loss: 0.2870 - val_accuracy: 0.9270\n",
            "Epoch 48/50\n",
            "1875/1875 [==============================] - 11s 6ms/step - loss: 0.2281 - accuracy: 0.9369 - val_loss: 0.2802 - val_accuracy: 0.9269\n",
            "Epoch 49/50\n",
            "1875/1875 [==============================] - 11s 6ms/step - loss: 0.2280 - accuracy: 0.9368 - val_loss: 0.2836 - val_accuracy: 0.9284\n",
            "Epoch 50/50\n",
            "1875/1875 [==============================] - 10s 6ms/step - loss: 0.2277 - accuracy: 0.9371 - val_loss: 0.2852 - val_accuracy: 0.9275\n"
          ]
        }
      ]
    },
    {
      "cell_type": "code",
      "source": [
        "score = model.evaluate(X_test, y_test, verbose=0)\n",
        "print('Test loss:', score[0]) \n",
        "print('Test accuracy:', score[1]) "
      ],
      "metadata": {
        "colab": {
          "base_uri": "https://localhost:8080/"
        },
        "id": "jUGUEGNnaDRl",
        "outputId": "08934f13-e469-4e6c-e043-2c3442d59031"
      },
      "execution_count": null,
      "outputs": [
        {
          "output_type": "stream",
          "name": "stdout",
          "text": [
            "Test loss: 0.285217821598053\n",
            "Test accuracy: 0.9275000095367432\n"
          ]
        }
      ]
    },
    {
      "cell_type": "code",
      "source": [
        "# visualizing losses and accuracy\n",
        "%matplotlib inline\n",
        "\n",
        "train_loss=H.history['loss']\n",
        "val_loss=H.history['val_loss']\n",
        "train_acc=H.history['accuracy']\n",
        "val_acc=H.history['val_accuracy']\n",
        "\n",
        "epochs = range(len(train_acc))\n",
        "\n",
        "plt.plot(epochs,train_loss,'r', label='train_loss')\n",
        "plt.plot(epochs,val_loss,'b', label='val_loss')\n",
        "plt.title('train_loss vs val_loss')\n",
        "plt.legend()\n",
        "plt.figure()\n",
        "\n",
        "plt.plot(epochs,train_acc,'r', label='train_acc')\n",
        "plt.plot(epochs,val_acc,'b', label='val_acc')\n",
        "plt.title('train_acc vs val_acc')\n",
        "plt.legend()\n",
        "plt.figure()"
      ],
      "metadata": {
        "colab": {
          "base_uri": "https://localhost:8080/",
          "height": 582
        },
        "id": "XDmuSmVsdRro",
        "outputId": "d1938ba9-a019-4677-bbd0-fc10085cc9e5"
      },
      "execution_count": null,
      "outputs": [
        {
          "output_type": "execute_result",
          "data": {
            "text/plain": [
              "<Figure size 432x288 with 0 Axes>"
            ]
          },
          "metadata": {},
          "execution_count": 18
        },
        {
          "output_type": "display_data",
          "data": {
            "text/plain": [
              "<Figure size 432x288 with 1 Axes>"
            ],
            "image/png": "[encoded data removed]"
          },
          "metadata": {
            "needs_background": "light"
          }
        },
        {
          "output_type": "display_data",
          "data": {
            "text/plain": [
              "<Figure size 432x288 with 1 Axes>"
            ],
            "image/png": "[encoded data removed]"
          },
          "metadata": {
            "needs_background": "light"
          }
        },
        {
          "output_type": "display_data",
          "data": {
            "text/plain": [
              "<Figure size 432x288 with 0 Axes>"
            ]
          },
          "metadata": {}
        }
      ]
    },
    {
      "cell_type": "code",
      "source": [
        "H = model.fit(X_train, y_train, validation_data=(X_test, y_test) ,epochs=5,verbose=1)"
      ],
      "metadata": {
        "colab": {
          "base_uri": "https://localhost:8080/"
        },
        "id": "IqXuFolgdbwz",
        "outputId": "d0110e4c-f7f0-4e5b-fe78-a646284d9fa9"
      },
      "execution_count": null,
      "outputs": [
        {
          "output_type": "stream",
          "name": "stdout",
          "text": [
            "Epoch 1/5\n",
            "1875/1875 [==============================] - 11s 6ms/step - loss: 0.2276 - accuracy: 0.9373 - val_loss: 0.2876 - val_accuracy: 0.9261\n",
            "Epoch 2/5\n",
            "1875/1875 [==============================] - 12s 6ms/step - loss: 0.2273 - accuracy: 0.9368 - val_loss: 0.2865 - val_accuracy: 0.9268\n",
            "Epoch 3/5\n",
            "1875/1875 [==============================] - 10s 5ms/step - loss: 0.2271 - accuracy: 0.9378 - val_loss: 0.2885 - val_accuracy: 0.9261\n",
            "Epoch 4/5\n",
            "1875/1875 [==============================] - 11s 6ms/step - loss: 0.2272 - accuracy: 0.9372 - val_loss: 0.2841 - val_accuracy: 0.9269\n",
            "Epoch 5/5\n",
            "1875/1875 [==============================] - 11s 6ms/step - loss: 0.2264 - accuracy: 0.9373 - val_loss: 0.2867 - val_accuracy: 0.9256\n"
          ]
        }
      ]
    },
    {
      "cell_type": "code",
      "source": [
        "score = model.evaluate(X_test, y_test, verbose=0)\n",
        "print('Test loss:', score[0]) \n",
        "print('Test accuracy:', score[1]) "
      ],
      "metadata": {
        "colab": {
          "base_uri": "https://localhost:8080/"
        },
        "id": "7daEXxP2aSlf",
        "outputId": "e54b585d-2940-4014-d5a9-34608d084180"
      },
      "execution_count": null,
      "outputs": [
        {
          "output_type": "stream",
          "name": "stdout",
          "text": [
            "Test loss: 0.28674906492233276\n",
            "Test accuracy: 0.925599992275238\n"
          ]
        }
      ]
    },
    {
      "cell_type": "code",
      "source": [
        "# visualizing losses and accuracy\n",
        "%matplotlib inline\n",
        "\n",
        "train_loss=H.history['loss']\n",
        "val_loss=H.history['val_loss']\n",
        "train_acc=H.history['accuracy']\n",
        "val_acc=H.history['val_accuracy']\n",
        "\n",
        "epochs = range(len(train_acc))\n",
        "\n",
        "plt.plot(epochs,train_loss,'r', label='train_loss')\n",
        "plt.plot(epochs,val_loss,'b', label='val_loss')\n",
        "plt.title('train_loss vs val_loss')\n",
        "plt.legend()\n",
        "plt.figure()\n",
        "\n",
        "plt.plot(epochs,train_acc,'r', label='train_acc')\n",
        "plt.plot(epochs,val_acc,'b', label='val_acc')\n",
        "plt.title('train_acc vs val_acc')\n",
        "plt.legend()\n",
        "plt.figure()"
      ],
      "metadata": {
        "colab": {
          "base_uri": "https://localhost:8080/",
          "height": 582
        },
        "id": "o2S8NYGPd03J",
        "outputId": "c834efcd-eaf8-4d1b-ec01-9655fff855cb"
      },
      "execution_count": null,
      "outputs": [
        {
          "output_type": "execute_result",
          "data": {
            "text/plain": [
              "<Figure size 432x288 with 0 Axes>"
            ]
          },
          "metadata": {},
          "execution_count": 21
        },
        {
          "output_type": "display_data",
          "data": {
            "text/plain": [
              "<Figure size 432x288 with 1 Axes>"
            ],
            "image/png": "[encoded data removed]"
          },
          "metadata": {
            "needs_background": "light"
          }
        },
        {
          "output_type": "display_data",
          "data": {
            "text/plain": [
              "<Figure size 432x288 with 1 Axes>"
            ],
            "image/png": "[encoded data removed]"
          },
          "metadata": {
            "needs_background": "light"
          }
        },
        {
          "output_type": "display_data",
          "data": {
            "text/plain": [
              "<Figure size 432x288 with 0 Axes>"
            ]
          },
          "metadata": {}
        }
      ]
    },
    {
      "cell_type": "code",
      "source": [
        "H = model.fit(X_train, y_train, validation_data=(X_test, y_test) ,epochs=100,verbose=1)"
      ],
      "metadata": {
        "colab": {
          "base_uri": "https://localhost:8080/"
        },
        "id": "yWsD1HnNfHeP",
        "outputId": "062e56db-a584-4858-bd77-2cd78bdba324"
      },
      "execution_count": null,
      "outputs": [
        {
          "output_type": "stream",
          "name": "stdout",
          "text": [
            "Epoch 1/100\n",
            "1875/1875 [==============================] - 13s 7ms/step - loss: 0.2271 - accuracy: 0.9366 - val_loss: 0.2861 - val_accuracy: 0.9266\n",
            "Epoch 2/100\n",
            "1875/1875 [==============================] - 11s 6ms/step - loss: 0.2265 - accuracy: 0.9367 - val_loss: 0.2848 - val_accuracy: 0.9279\n",
            "Epoch 3/100\n",
            "1875/1875 [==============================] - 11s 6ms/step - loss: 0.2259 - accuracy: 0.9369 - val_loss: 0.2862 - val_accuracy: 0.9256\n",
            "Epoch 4/100\n",
            "1875/1875 [==============================] - 10s 5ms/step - loss: 0.2258 - accuracy: 0.9368 - val_loss: 0.2888 - val_accuracy: 0.9269\n",
            "Epoch 5/100\n",
            "1875/1875 [==============================] - 11s 6ms/step - loss: 0.2256 - accuracy: 0.9376 - val_loss: 0.2904 - val_accuracy: 0.9259\n",
            "Epoch 6/100\n",
            "1875/1875 [==============================] - 11s 6ms/step - loss: 0.2256 - accuracy: 0.9371 - val_loss: 0.2905 - val_accuracy: 0.9259\n",
            "Epoch 7/100\n",
            "1875/1875 [==============================] - 11s 6ms/step - loss: 0.2258 - accuracy: 0.9376 - val_loss: 0.2926 - val_accuracy: 0.9260\n",
            "Epoch 8/100\n",
            "1875/1875 [==============================] - 11s 6ms/step - loss: 0.2247 - accuracy: 0.9378 - val_loss: 0.2912 - val_accuracy: 0.9273\n",
            "Epoch 9/100\n",
            "1875/1875 [==============================] - 11s 6ms/step - loss: 0.2253 - accuracy: 0.9377 - val_loss: 0.2896 - val_accuracy: 0.9273\n",
            "Epoch 10/100\n",
            "1875/1875 [==============================] - 11s 6ms/step - loss: 0.2249 - accuracy: 0.9372 - val_loss: 0.2898 - val_accuracy: 0.9265\n",
            "Epoch 11/100\n",
            "1875/1875 [==============================] - 11s 6ms/step - loss: 0.2250 - accuracy: 0.9373 - val_loss: 0.2881 - val_accuracy: 0.9281\n",
            "Epoch 12/100\n",
            "1875/1875 [==============================] - 11s 6ms/step - loss: 0.2250 - accuracy: 0.9380 - val_loss: 0.2915 - val_accuracy: 0.9271\n",
            "Epoch 13/100\n",
            "1875/1875 [==============================] - 11s 6ms/step - loss: 0.2244 - accuracy: 0.9374 - val_loss: 0.2943 - val_accuracy: 0.9262\n",
            "Epoch 14/100\n",
            "1875/1875 [==============================] - 11s 6ms/step - loss: 0.2244 - accuracy: 0.9380 - val_loss: 0.2878 - val_accuracy: 0.9276\n",
            "Epoch 15/100\n",
            "1875/1875 [==============================] - 12s 6ms/step - loss: 0.2239 - accuracy: 0.9385 - val_loss: 0.2959 - val_accuracy: 0.9250\n",
            "Epoch 16/100\n",
            "1875/1875 [==============================] - 11s 6ms/step - loss: 0.2240 - accuracy: 0.9376 - val_loss: 0.2921 - val_accuracy: 0.9272\n",
            "Epoch 17/100\n",
            "1875/1875 [==============================] - 11s 6ms/step - loss: 0.2240 - accuracy: 0.9378 - val_loss: 0.2914 - val_accuracy: 0.9252\n",
            "Epoch 18/100\n",
            "1875/1875 [==============================] - 10s 5ms/step - loss: 0.2236 - accuracy: 0.9376 - val_loss: 0.2943 - val_accuracy: 0.9256\n",
            "Epoch 19/100\n",
            "1875/1875 [==============================] - 10s 6ms/step - loss: 0.2239 - accuracy: 0.9381 - val_loss: 0.2914 - val_accuracy: 0.9268\n",
            "Epoch 20/100\n",
            "1875/1875 [==============================] - 11s 6ms/step - loss: 0.2232 - accuracy: 0.9381 - val_loss: 0.2935 - val_accuracy: 0.9264\n",
            "Epoch 21/100\n",
            "1875/1875 [==============================] - 10s 5ms/step - loss: 0.2233 - accuracy: 0.9380 - val_loss: 0.2940 - val_accuracy: 0.9253\n",
            "Epoch 22/100\n",
            "1875/1875 [==============================] - 10s 6ms/step - loss: 0.2232 - accuracy: 0.9375 - val_loss: 0.2924 - val_accuracy: 0.9265\n",
            "Epoch 23/100\n",
            "1875/1875 [==============================] - 10s 5ms/step - loss: 0.2233 - accuracy: 0.9388 - val_loss: 0.2933 - val_accuracy: 0.9260\n",
            "Epoch 24/100\n",
            "1875/1875 [==============================] - 11s 6ms/step - loss: 0.2231 - accuracy: 0.9377 - val_loss: 0.2957 - val_accuracy: 0.9267\n",
            "Epoch 25/100\n",
            "1875/1875 [==============================] - 11s 6ms/step - loss: 0.2227 - accuracy: 0.9377 - val_loss: 0.2933 - val_accuracy: 0.9256\n",
            "Epoch 26/100\n",
            "1875/1875 [==============================] - 10s 5ms/step - loss: 0.2225 - accuracy: 0.9373 - val_loss: 0.3001 - val_accuracy: 0.9258\n",
            "Epoch 27/100\n",
            "1875/1875 [==============================] - 10s 5ms/step - loss: 0.2226 - accuracy: 0.9382 - val_loss: 0.2942 - val_accuracy: 0.9261\n",
            "Epoch 28/100\n",
            "1875/1875 [==============================] - 11s 6ms/step - loss: 0.2223 - accuracy: 0.9387 - val_loss: 0.2968 - val_accuracy: 0.9257\n",
            "Epoch 29/100\n",
            "1875/1875 [==============================] - 11s 6ms/step - loss: 0.2227 - accuracy: 0.9382 - val_loss: 0.2952 - val_accuracy: 0.9259\n",
            "Epoch 30/100\n",
            "1875/1875 [==============================] - 11s 6ms/step - loss: 0.2221 - accuracy: 0.9385 - val_loss: 0.2939 - val_accuracy: 0.9283\n",
            "Epoch 31/100\n",
            "1875/1875 [==============================] - 11s 6ms/step - loss: 0.2218 - accuracy: 0.9382 - val_loss: 0.2967 - val_accuracy: 0.9259\n",
            "Epoch 32/100\n",
            "1875/1875 [==============================] - 11s 6ms/step - loss: 0.2219 - accuracy: 0.9377 - val_loss: 0.2989 - val_accuracy: 0.9246\n",
            "Epoch 33/100\n",
            "1875/1875 [==============================] - 10s 6ms/step - loss: 0.2217 - accuracy: 0.9388 - val_loss: 0.2987 - val_accuracy: 0.9243\n",
            "Epoch 34/100\n",
            "1875/1875 [==============================] - 11s 6ms/step - loss: 0.2216 - accuracy: 0.9382 - val_loss: 0.3006 - val_accuracy: 0.9257\n",
            "Epoch 35/100\n",
            "1875/1875 [==============================] - 11s 6ms/step - loss: 0.2213 - accuracy: 0.9385 - val_loss: 0.3004 - val_accuracy: 0.9246\n",
            "Epoch 36/100\n",
            "1875/1875 [==============================] - 10s 6ms/step - loss: 0.2213 - accuracy: 0.9384 - val_loss: 0.2982 - val_accuracy: 0.9254\n",
            "Epoch 37/100\n",
            "1875/1875 [==============================] - 10s 6ms/step - loss: 0.2215 - accuracy: 0.9386 - val_loss: 0.2996 - val_accuracy: 0.9253\n",
            "Epoch 38/100\n",
            "1875/1875 [==============================] - 11s 6ms/step - loss: 0.2216 - accuracy: 0.9380 - val_loss: 0.2977 - val_accuracy: 0.9267\n",
            "Epoch 39/100\n",
            "1875/1875 [==============================] - 11s 6ms/step - loss: 0.2213 - accuracy: 0.9383 - val_loss: 0.3024 - val_accuracy: 0.9249\n",
            "Epoch 40/100\n",
            "1875/1875 [==============================] - 11s 6ms/step - loss: 0.2211 - accuracy: 0.9383 - val_loss: 0.3010 - val_accuracy: 0.9264\n",
            "Epoch 41/100\n",
            "1875/1875 [==============================] - 11s 6ms/step - loss: 0.2208 - accuracy: 0.9388 - val_loss: 0.3035 - val_accuracy: 0.9236\n",
            "Epoch 42/100\n",
            "1875/1875 [==============================] - 11s 6ms/step - loss: 0.2208 - accuracy: 0.9387 - val_loss: 0.2963 - val_accuracy: 0.9283\n",
            "Epoch 43/100\n",
            "1875/1875 [==============================] - 11s 6ms/step - loss: 0.2211 - accuracy: 0.9386 - val_loss: 0.2981 - val_accuracy: 0.9268\n",
            "Epoch 44/100\n",
            "1875/1875 [==============================] - 11s 6ms/step - loss: 0.2209 - accuracy: 0.9389 - val_loss: 0.3009 - val_accuracy: 0.9256\n",
            "Epoch 45/100\n",
            "1875/1875 [==============================] - 11s 6ms/step - loss: 0.2206 - accuracy: 0.9383 - val_loss: 0.3014 - val_accuracy: 0.9260\n",
            "Epoch 46/100\n",
            "1875/1875 [==============================] - 11s 6ms/step - loss: 0.2208 - accuracy: 0.9384 - val_loss: 0.3059 - val_accuracy: 0.9242\n",
            "Epoch 47/100\n",
            "1875/1875 [==============================] - 11s 6ms/step - loss: 0.2208 - accuracy: 0.9385 - val_loss: 0.2977 - val_accuracy: 0.9265\n",
            "Epoch 48/100\n",
            "1875/1875 [==============================] - 11s 6ms/step - loss: 0.2203 - accuracy: 0.9385 - val_loss: 0.3024 - val_accuracy: 0.9258\n",
            "Epoch 49/100\n",
            "1875/1875 [==============================] - 11s 6ms/step - loss: 0.2203 - accuracy: 0.9382 - val_loss: 0.3042 - val_accuracy: 0.9234\n",
            "Epoch 50/100\n",
            "1875/1875 [==============================] - 11s 6ms/step - loss: 0.2200 - accuracy: 0.9389 - val_loss: 0.3042 - val_accuracy: 0.9256\n",
            "Epoch 51/100\n",
            "1875/1875 [==============================] - 11s 6ms/step - loss: 0.2204 - accuracy: 0.9387 - val_loss: 0.3003 - val_accuracy: 0.9264\n",
            "Epoch 52/100\n",
            "1875/1875 [==============================] - 11s 6ms/step - loss: 0.2199 - accuracy: 0.9389 - val_loss: 0.3005 - val_accuracy: 0.9257\n",
            "Epoch 53/100\n",
            "1875/1875 [==============================] - 11s 6ms/step - loss: 0.2203 - accuracy: 0.9386 - val_loss: 0.2998 - val_accuracy: 0.9275\n",
            "Epoch 54/100\n",
            "1875/1875 [==============================] - 12s 6ms/step - loss: 0.2199 - accuracy: 0.9391 - val_loss: 0.3027 - val_accuracy: 0.9260\n",
            "Epoch 55/100\n",
            "1875/1875 [==============================] - 11s 6ms/step - loss: 0.2199 - accuracy: 0.9389 - val_loss: 0.3079 - val_accuracy: 0.9238\n",
            "Epoch 56/100\n",
            "1875/1875 [==============================] - 11s 6ms/step - loss: 0.2200 - accuracy: 0.9383 - val_loss: 0.2995 - val_accuracy: 0.9268\n",
            "Epoch 57/100\n",
            "1875/1875 [==============================] - 11s 6ms/step - loss: 0.2195 - accuracy: 0.9388 - val_loss: 0.3028 - val_accuracy: 0.9259\n",
            "Epoch 58/100\n",
            "1875/1875 [==============================] - 11s 6ms/step - loss: 0.2196 - accuracy: 0.9392 - val_loss: 0.3005 - val_accuracy: 0.9271\n",
            "Epoch 59/100\n",
            "1875/1875 [==============================] - 11s 6ms/step - loss: 0.2196 - accuracy: 0.9386 - val_loss: 0.3040 - val_accuracy: 0.9255\n",
            "Epoch 60/100\n",
            "1875/1875 [==============================] - 11s 6ms/step - loss: 0.2197 - accuracy: 0.9384 - val_loss: 0.3044 - val_accuracy: 0.9245\n",
            "Epoch 61/100\n",
            "1875/1875 [==============================] - 11s 6ms/step - loss: 0.2193 - accuracy: 0.9391 - val_loss: 0.3028 - val_accuracy: 0.9253\n",
            "Epoch 62/100\n",
            "1875/1875 [==============================] - 11s 6ms/step - loss: 0.2190 - accuracy: 0.9390 - val_loss: 0.3076 - val_accuracy: 0.9254\n",
            "Epoch 63/100\n",
            "1875/1875 [==============================] - 11s 6ms/step - loss: 0.2197 - accuracy: 0.9387 - val_loss: 0.3020 - val_accuracy: 0.9262\n",
            "Epoch 64/100\n",
            "1875/1875 [==============================] - 11s 6ms/step - loss: 0.2193 - accuracy: 0.9392 - val_loss: 0.3047 - val_accuracy: 0.9246\n",
            "Epoch 65/100\n",
            "1875/1875 [==============================] - 10s 6ms/step - loss: 0.2189 - accuracy: 0.9390 - val_loss: 0.3088 - val_accuracy: 0.9241\n",
            "Epoch 66/100\n",
            "1875/1875 [==============================] - 10s 5ms/step - loss: 0.2190 - accuracy: 0.9389 - val_loss: 0.3059 - val_accuracy: 0.9256\n",
            "Epoch 67/100\n",
            "1875/1875 [==============================] - 11s 6ms/step - loss: 0.2188 - accuracy: 0.9397 - val_loss: 0.3017 - val_accuracy: 0.9265\n",
            "Epoch 68/100\n",
            "1875/1875 [==============================] - 11s 6ms/step - loss: 0.2190 - accuracy: 0.9388 - val_loss: 0.3066 - val_accuracy: 0.9264\n",
            "Epoch 69/100\n",
            "1875/1875 [==============================] - 11s 6ms/step - loss: 0.2183 - accuracy: 0.9391 - val_loss: 0.3037 - val_accuracy: 0.9264\n",
            "Epoch 70/100\n",
            "1875/1875 [==============================] - 10s 6ms/step - loss: 0.2192 - accuracy: 0.9384 - val_loss: 0.3041 - val_accuracy: 0.9255\n",
            "Epoch 71/100\n",
            "1875/1875 [==============================] - 10s 5ms/step - loss: 0.2186 - accuracy: 0.9391 - val_loss: 0.3088 - val_accuracy: 0.9254\n",
            "Epoch 72/100\n",
            "1875/1875 [==============================] - 11s 6ms/step - loss: 0.2186 - accuracy: 0.9396 - val_loss: 0.3106 - val_accuracy: 0.9235\n",
            "Epoch 73/100\n",
            "1875/1875 [==============================] - 10s 5ms/step - loss: 0.2185 - accuracy: 0.9394 - val_loss: 0.3060 - val_accuracy: 0.9250\n",
            "Epoch 74/100\n",
            "1875/1875 [==============================] - 10s 5ms/step - loss: 0.2185 - accuracy: 0.9395 - val_loss: 0.3054 - val_accuracy: 0.9271\n",
            "Epoch 75/100\n",
            "1875/1875 [==============================] - 11s 6ms/step - loss: 0.2184 - accuracy: 0.9394 - val_loss: 0.3059 - val_accuracy: 0.9264\n",
            "Epoch 76/100\n",
            "1875/1875 [==============================] - 11s 6ms/step - loss: 0.2182 - accuracy: 0.9393 - val_loss: 0.3059 - val_accuracy: 0.9264\n",
            "Epoch 77/100\n",
            "1875/1875 [==============================] - 10s 5ms/step - loss: 0.2180 - accuracy: 0.9391 - val_loss: 0.3086 - val_accuracy: 0.9260\n",
            "Epoch 78/100\n",
            "1875/1875 [==============================] - 10s 5ms/step - loss: 0.2178 - accuracy: 0.9394 - val_loss: 0.3087 - val_accuracy: 0.9255\n",
            "Epoch 79/100\n",
            "1875/1875 [==============================] - 11s 6ms/step - loss: 0.2181 - accuracy: 0.9396 - val_loss: 0.3074 - val_accuracy: 0.9264\n",
            "Epoch 80/100\n",
            "1875/1875 [==============================] - 10s 5ms/step - loss: 0.2182 - accuracy: 0.9390 - val_loss: 0.3074 - val_accuracy: 0.9273\n",
            "Epoch 81/100\n",
            "1875/1875 [==============================] - 10s 6ms/step - loss: 0.2177 - accuracy: 0.9391 - val_loss: 0.3072 - val_accuracy: 0.9259\n",
            "Epoch 82/100\n",
            "1875/1875 [==============================] - 11s 6ms/step - loss: 0.2182 - accuracy: 0.9393 - val_loss: 0.3066 - val_accuracy: 0.9266\n",
            "Epoch 83/100\n",
            "1875/1875 [==============================] - 10s 6ms/step - loss: 0.2177 - accuracy: 0.9398 - val_loss: 0.3099 - val_accuracy: 0.9249\n",
            "Epoch 84/100\n",
            "1875/1875 [==============================] - 12s 6ms/step - loss: 0.2178 - accuracy: 0.9401 - val_loss: 0.3066 - val_accuracy: 0.9252\n",
            "Epoch 85/100\n",
            "1875/1875 [==============================] - 12s 6ms/step - loss: 0.2179 - accuracy: 0.9388 - val_loss: 0.3074 - val_accuracy: 0.9251\n",
            "Epoch 86/100\n",
            "1875/1875 [==============================] - 11s 6ms/step - loss: 0.2177 - accuracy: 0.9392 - val_loss: 0.3092 - val_accuracy: 0.9226\n",
            "Epoch 87/100\n",
            "1875/1875 [==============================] - 11s 6ms/step - loss: 0.2179 - accuracy: 0.9396 - val_loss: 0.3073 - val_accuracy: 0.9259\n",
            "Epoch 88/100\n",
            "1875/1875 [==============================] - 11s 6ms/step - loss: 0.2175 - accuracy: 0.9395 - val_loss: 0.3095 - val_accuracy: 0.9245\n",
            "Epoch 89/100\n",
            "1875/1875 [==============================] - 11s 6ms/step - loss: 0.2177 - accuracy: 0.9386 - val_loss: 0.3116 - val_accuracy: 0.9247\n",
            "Epoch 90/100\n",
            "1875/1875 [==============================] - 11s 6ms/step - loss: 0.2175 - accuracy: 0.9393 - val_loss: 0.3086 - val_accuracy: 0.9257\n",
            "Epoch 91/100\n",
            "1875/1875 [==============================] - 11s 6ms/step - loss: 0.2170 - accuracy: 0.9394 - val_loss: 0.3144 - val_accuracy: 0.9230\n",
            "Epoch 92/100\n",
            "1875/1875 [==============================] - 11s 6ms/step - loss: 0.2173 - accuracy: 0.9390 - val_loss: 0.3093 - val_accuracy: 0.9273\n",
            "Epoch 93/100\n",
            "1875/1875 [==============================] - 11s 6ms/step - loss: 0.2172 - accuracy: 0.9392 - val_loss: 0.3115 - val_accuracy: 0.9251\n",
            "Epoch 94/100\n",
            "1875/1875 [==============================] - 11s 6ms/step - loss: 0.2172 - accuracy: 0.9398 - val_loss: 0.3109 - val_accuracy: 0.9259\n",
            "Epoch 95/100\n",
            "1875/1875 [==============================] - 11s 6ms/step - loss: 0.2171 - accuracy: 0.9390 - val_loss: 0.3143 - val_accuracy: 0.9232\n",
            "Epoch 96/100\n",
            "1875/1875 [==============================] - 11s 6ms/step - loss: 0.2168 - accuracy: 0.9398 - val_loss: 0.3108 - val_accuracy: 0.9256\n",
            "Epoch 97/100\n",
            "1875/1875 [==============================] - 11s 6ms/step - loss: 0.2174 - accuracy: 0.9394 - val_loss: 0.3095 - val_accuracy: 0.9268\n",
            "Epoch 98/100\n",
            "1875/1875 [==============================] - 11s 6ms/step - loss: 0.2171 - accuracy: 0.9398 - val_loss: 0.3087 - val_accuracy: 0.9263\n",
            "Epoch 99/100\n",
            "1875/1875 [==============================] - 11s 6ms/step - loss: 0.2170 - accuracy: 0.9390 - val_loss: 0.3112 - val_accuracy: 0.9256\n",
            "Epoch 100/100\n",
            "1875/1875 [==============================] - 11s 6ms/step - loss: 0.2168 - accuracy: 0.9392 - val_loss: 0.3118 - val_accuracy: 0.9247\n"
          ]
        }
      ]
    },
    {
      "cell_type": "code",
      "source": [
        "score = model.evaluate(X_test, y_test, verbose=0)\n",
        "print('Test loss:', score[0]) \n",
        "print('Test accuracy:', score[1])"
      ],
      "metadata": {
        "colab": {
          "base_uri": "https://localhost:8080/"
        },
        "id": "9mzjNBQhavTU",
        "outputId": "43d6951e-001b-49df-ccf1-4008d14bb4cb"
      },
      "execution_count": null,
      "outputs": [
        {
          "output_type": "stream",
          "name": "stdout",
          "text": [
            "Test loss: 0.31184661388397217\n",
            "Test accuracy: 0.9247000217437744\n"
          ]
        }
      ]
    },
    {
      "cell_type": "code",
      "source": [
        "# visualizing losses and accuracy\n",
        "%matplotlib inline\n",
        "\n",
        "train_loss=H.history['loss']\n",
        "val_loss=H.history['val_loss']\n",
        "train_acc=H.history['accuracy']\n",
        "val_acc=H.history['val_accuracy']\n",
        "\n",
        "epochs = range(len(train_acc))\n",
        "\n",
        "plt.plot(epochs,train_loss,'r', label='train_loss')\n",
        "plt.plot(epochs,val_loss,'b', label='val_loss')\n",
        "plt.title('train_loss vs val_loss')\n",
        "plt.legend()\n",
        "plt.figure()\n",
        "\n",
        "plt.plot(epochs,train_acc,'r', label='train_acc')\n",
        "plt.plot(epochs,val_acc,'b', label='val_acc')\n",
        "plt.title('train_acc vs val_acc')\n",
        "plt.legend()\n",
        "plt.figure()"
      ],
      "metadata": {
        "colab": {
          "base_uri": "https://localhost:8080/",
          "height": 582
        },
        "id": "rjAVNJUZfLdf",
        "outputId": "69aaa85a-f09f-4f8d-c2f5-a8ce89dfac6d"
      },
      "execution_count": null,
      "outputs": [
        {
          "output_type": "execute_result",
          "data": {
            "text/plain": [
              "<Figure size 432x288 with 0 Axes>"
            ]
          },
          "metadata": {},
          "execution_count": 24
        },
        {
          "output_type": "display_data",
          "data": {
            "text/plain": [
              "<Figure size 432x288 with 1 Axes>"
            ],
            "image/png": "[encoded data removed]"
          },
          "metadata": {
            "needs_background": "light"
          }
        },
        {
          "output_type": "display_data",
          "data": {
            "text/plain": [
              "<Figure size 432x288 with 1 Axes>"
            ],
            "image/png": "[encoded data removed]"
          },
          "metadata": {
            "needs_background": "light"
          }
        },
        {
          "output_type": "display_data",
          "data": {
            "text/plain": [
              "<Figure size 432x288 with 0 Axes>"
            ]
          },
          "metadata": {}
        }
      ]
    },
    {
      "cell_type": "code",
      "source": [
        "model = tf.keras.Sequential([\n",
        "\n",
        "         tf.keras.layers.Flatten(input_shape = (28,28,1)),\n",
        "         tf.keras.layers.Dense(512, activation='softmax'),\n",
        "\n",
        "         ])"
      ],
      "metadata": {
        "id": "GbDIT5BDkWTj"
      },
      "execution_count": null,
      "outputs": []
    },
    {
      "cell_type": "code",
      "source": [
        "model.compile(optimizer='adam',\n",
        "              loss=tf.keras.losses.SparseCategoricalCrossentropy(from_logits=True),\n",
        "              metrics=['accuracy'])"
      ],
      "metadata": {
        "id": "Ri9yOcR6ki6r"
      },
      "execution_count": null,
      "outputs": []
    },
    {
      "cell_type": "code",
      "source": [
        "model.summary()"
      ],
      "metadata": {
        "colab": {
          "base_uri": "https://localhost:8080/"
        },
        "id": "5oifiY5BkjSx",
        "outputId": "0251cf26-199f-452b-c29a-9aa68fd18811"
      },
      "execution_count": null,
      "outputs": [
        {
          "output_type": "stream",
          "name": "stdout",
          "text": [
            "Model: \"sequential_1\"\n",
            "_________________________________________________________________\n",
            " Layer (type)                Output Shape              Param #   \n",
            "=================================================================\n",
            " flatten_1 (Flatten)         (None, 784)               0         \n",
            "                                                                 \n",
            " dense_1 (Dense)             (None, 512)               401920    \n",
            "                                                                 \n",
            "=================================================================\n",
            "Total params: 401,920\n",
            "Trainable params: 401,920\n",
            "Non-trainable params: 0\n",
            "_________________________________________________________________\n"
          ]
        }
      ]
    },
    {
      "cell_type": "code",
      "source": [
        "H = model.fit(X_train, y_train, validation_data=(X_test, y_test) ,epochs=50,verbose=1)"
      ],
      "metadata": {
        "colab": {
          "base_uri": "https://localhost:8080/"
        },
        "id": "_lRQko-tkpFM",
        "outputId": "b6e4fe08-5326-4885-d99f-112c82ca1b3f"
      },
      "execution_count": null,
      "outputs": [
        {
          "output_type": "stream",
          "name": "stdout",
          "text": [
            "Epoch 1/50\n"
          ]
        },
        {
          "output_type": "stream",
          "name": "stderr",
          "text": [
            "/usr/local/lib/python3.7/dist-packages/tensorflow/python/util/dispatch.py:1082: UserWarning: \"`sparse_categorical_crossentropy` received `from_logits=True`, but the `output` argument was produced by a sigmoid or softmax activation and thus does not represent logits. Was this intended?\"\n",
            "  return dispatch_target(*args, **kwargs)\n"
          ]
        },
        {
          "output_type": "stream",
          "name": "stdout",
          "text": [
            "1875/1875 [==============================] - 11s 6ms/step - loss: 0.5276 - accuracy: 0.8732 - val_loss: 0.3075 - val_accuracy: 0.9148\n",
            "Epoch 2/50\n",
            "1875/1875 [==============================] - 11s 6ms/step - loss: 0.3037 - accuracy: 0.9147 - val_loss: 0.2819 - val_accuracy: 0.9216\n",
            "Epoch 3/50\n",
            "1875/1875 [==============================] - 11s 6ms/step - loss: 0.2835 - accuracy: 0.9215 - val_loss: 0.2787 - val_accuracy: 0.9217\n",
            "Epoch 4/50\n",
            "1875/1875 [==============================] - 10s 5ms/step - loss: 0.2728 - accuracy: 0.9238 - val_loss: 0.2697 - val_accuracy: 0.9248\n",
            "Epoch 5/50\n",
            "1875/1875 [==============================] - 11s 6ms/step - loss: 0.2664 - accuracy: 0.9250 - val_loss: 0.2680 - val_accuracy: 0.9264\n",
            "Epoch 6/50\n",
            "1875/1875 [==============================] - 10s 6ms/step - loss: 0.2618 - accuracy: 0.9273 - val_loss: 0.2650 - val_accuracy: 0.9267\n",
            "Epoch 7/50\n",
            "1875/1875 [==============================] - 10s 6ms/step - loss: 0.2581 - accuracy: 0.9276 - val_loss: 0.2642 - val_accuracy: 0.9271\n",
            "Epoch 8/50\n",
            "1875/1875 [==============================] - 11s 6ms/step - loss: 0.2552 - accuracy: 0.9290 - val_loss: 0.2695 - val_accuracy: 0.9261\n",
            "Epoch 9/50\n",
            "1875/1875 [==============================] - 10s 6ms/step - loss: 0.2527 - accuracy: 0.9304 - val_loss: 0.2640 - val_accuracy: 0.9267\n",
            "Epoch 10/50\n",
            "1875/1875 [==============================] - 11s 6ms/step - loss: 0.2505 - accuracy: 0.9301 - val_loss: 0.2627 - val_accuracy: 0.9285\n",
            "Epoch 11/50\n",
            "1875/1875 [==============================] - 10s 6ms/step - loss: 0.2492 - accuracy: 0.9312 - val_loss: 0.2644 - val_accuracy: 0.9268\n",
            "Epoch 12/50\n",
            "1875/1875 [==============================] - 11s 6ms/step - loss: 0.2470 - accuracy: 0.9321 - val_loss: 0.2661 - val_accuracy: 0.9258\n",
            "Epoch 13/50\n",
            "1875/1875 [==============================] - 10s 6ms/step - loss: 0.2458 - accuracy: 0.9327 - val_loss: 0.2641 - val_accuracy: 0.9281\n",
            "Epoch 14/50\n",
            "1875/1875 [==============================] - 11s 6ms/step - loss: 0.2451 - accuracy: 0.9323 - val_loss: 0.2663 - val_accuracy: 0.9261\n",
            "Epoch 15/50\n",
            "1875/1875 [==============================] - 11s 6ms/step - loss: 0.2439 - accuracy: 0.9326 - val_loss: 0.2661 - val_accuracy: 0.9265\n",
            "Epoch 16/50\n",
            "1875/1875 [==============================] - 10s 5ms/step - loss: 0.2427 - accuracy: 0.9332 - val_loss: 0.2649 - val_accuracy: 0.9286\n",
            "Epoch 17/50\n",
            "1875/1875 [==============================] - 10s 6ms/step - loss: 0.2418 - accuracy: 0.9331 - val_loss: 0.2642 - val_accuracy: 0.9279\n",
            "Epoch 18/50\n",
            "1875/1875 [==============================] - 11s 6ms/step - loss: 0.2410 - accuracy: 0.9339 - val_loss: 0.2693 - val_accuracy: 0.9274\n",
            "Epoch 19/50\n",
            "1875/1875 [==============================] - 11s 6ms/step - loss: 0.2403 - accuracy: 0.9336 - val_loss: 0.2689 - val_accuracy: 0.9269\n",
            "Epoch 20/50\n",
            "1875/1875 [==============================] - 11s 6ms/step - loss: 0.2402 - accuracy: 0.9340 - val_loss: 0.2706 - val_accuracy: 0.9268\n",
            "Epoch 21/50\n",
            "1875/1875 [==============================] - 10s 5ms/step - loss: 0.2391 - accuracy: 0.9341 - val_loss: 0.2693 - val_accuracy: 0.9259\n",
            "Epoch 22/50\n",
            "1875/1875 [==============================] - 10s 6ms/step - loss: 0.2381 - accuracy: 0.9347 - val_loss: 0.2674 - val_accuracy: 0.9288\n",
            "Epoch 23/50\n",
            "1875/1875 [==============================] - 11s 6ms/step - loss: 0.2374 - accuracy: 0.9351 - val_loss: 0.2698 - val_accuracy: 0.9274\n",
            "Epoch 24/50\n",
            "1875/1875 [==============================] - 10s 6ms/step - loss: 0.2370 - accuracy: 0.9349 - val_loss: 0.2705 - val_accuracy: 0.9268\n",
            "Epoch 25/50\n",
            "1875/1875 [==============================] - 11s 6ms/step - loss: 0.2366 - accuracy: 0.9349 - val_loss: 0.2696 - val_accuracy: 0.9275\n",
            "Epoch 26/50\n",
            "1875/1875 [==============================] - 11s 6ms/step - loss: 0.2360 - accuracy: 0.9346 - val_loss: 0.2707 - val_accuracy: 0.9274\n",
            "Epoch 27/50\n",
            "1875/1875 [==============================] - 11s 6ms/step - loss: 0.2355 - accuracy: 0.9342 - val_loss: 0.2747 - val_accuracy: 0.9279\n",
            "Epoch 28/50\n",
            "1875/1875 [==============================] - 11s 6ms/step - loss: 0.2347 - accuracy: 0.9348 - val_loss: 0.2730 - val_accuracy: 0.9279\n",
            "Epoch 29/50\n",
            "1875/1875 [==============================] - 11s 6ms/step - loss: 0.2347 - accuracy: 0.9355 - val_loss: 0.2716 - val_accuracy: 0.9286\n",
            "Epoch 30/50\n",
            "1875/1875 [==============================] - 10s 5ms/step - loss: 0.2339 - accuracy: 0.9354 - val_loss: 0.2748 - val_accuracy: 0.9281\n",
            "Epoch 31/50\n",
            "1875/1875 [==============================] - 11s 6ms/step - loss: 0.2333 - accuracy: 0.9361 - val_loss: 0.2734 - val_accuracy: 0.9285\n",
            "Epoch 32/50\n",
            "1875/1875 [==============================] - 11s 6ms/step - loss: 0.2335 - accuracy: 0.9359 - val_loss: 0.2769 - val_accuracy: 0.9257\n",
            "Epoch 33/50\n",
            "1875/1875 [==============================] - 11s 6ms/step - loss: 0.2333 - accuracy: 0.9357 - val_loss: 0.2775 - val_accuracy: 0.9272\n",
            "Epoch 34/50\n",
            "1875/1875 [==============================] - 11s 6ms/step - loss: 0.2330 - accuracy: 0.9353 - val_loss: 0.2759 - val_accuracy: 0.9285\n",
            "Epoch 35/50\n",
            "1875/1875 [==============================] - 11s 6ms/step - loss: 0.2323 - accuracy: 0.9358 - val_loss: 0.2761 - val_accuracy: 0.9293\n",
            "Epoch 36/50\n",
            "1875/1875 [==============================] - 11s 6ms/step - loss: 0.2322 - accuracy: 0.9356 - val_loss: 0.2746 - val_accuracy: 0.9278\n",
            "Epoch 37/50\n",
            "1875/1875 [==============================] - 11s 6ms/step - loss: 0.2316 - accuracy: 0.9362 - val_loss: 0.2750 - val_accuracy: 0.9282\n",
            "Epoch 38/50\n",
            "1875/1875 [==============================] - 11s 6ms/step - loss: 0.2317 - accuracy: 0.9358 - val_loss: 0.2796 - val_accuracy: 0.9272\n",
            "Epoch 39/50\n",
            "1875/1875 [==============================] - 10s 5ms/step - loss: 0.2313 - accuracy: 0.9365 - val_loss: 0.2764 - val_accuracy: 0.9288\n",
            "Epoch 40/50\n",
            "1875/1875 [==============================] - 11s 6ms/step - loss: 0.2305 - accuracy: 0.9363 - val_loss: 0.2788 - val_accuracy: 0.9271\n",
            "Epoch 41/50\n",
            "1875/1875 [==============================] - 11s 6ms/step - loss: 0.2301 - accuracy: 0.9363 - val_loss: 0.2800 - val_accuracy: 0.9263\n",
            "Epoch 42/50\n",
            "1875/1875 [==============================] - 11s 6ms/step - loss: 0.2300 - accuracy: 0.9366 - val_loss: 0.2781 - val_accuracy: 0.9271\n",
            "Epoch 43/50\n",
            "1875/1875 [==============================] - 11s 6ms/step - loss: 0.2297 - accuracy: 0.9365 - val_loss: 0.2829 - val_accuracy: 0.9259\n",
            "Epoch 44/50\n",
            "1875/1875 [==============================] - 12s 6ms/step - loss: 0.2296 - accuracy: 0.9357 - val_loss: 0.2810 - val_accuracy: 0.9264\n",
            "Epoch 45/50\n",
            "1875/1875 [==============================] - 11s 6ms/step - loss: 0.2295 - accuracy: 0.9364 - val_loss: 0.2798 - val_accuracy: 0.9286\n",
            "Epoch 46/50\n",
            "1875/1875 [==============================] - 10s 5ms/step - loss: 0.2293 - accuracy: 0.9362 - val_loss: 0.2798 - val_accuracy: 0.9286\n",
            "Epoch 47/50\n",
            "1875/1875 [==============================] - 11s 6ms/step - loss: 0.2292 - accuracy: 0.9367 - val_loss: 0.2806 - val_accuracy: 0.9283\n",
            "Epoch 48/50\n",
            "1875/1875 [==============================] - 11s 6ms/step - loss: 0.2290 - accuracy: 0.9367 - val_loss: 0.2797 - val_accuracy: 0.9278\n",
            "Epoch 49/50\n",
            "1875/1875 [==============================] - 11s 6ms/step - loss: 0.2288 - accuracy: 0.9362 - val_loss: 0.2814 - val_accuracy: 0.9268\n",
            "Epoch 50/50\n",
            "1875/1875 [==============================] - 10s 6ms/step - loss: 0.2282 - accuracy: 0.9360 - val_loss: 0.2834 - val_accuracy: 0.9266\n"
          ]
        }
      ]
    },
    {
      "cell_type": "code",
      "source": [
        "score = model.evaluate(X_test, y_test, verbose=0)\n",
        "print('Test loss:', score[0]) \n",
        "print('Test accuracy:', score[1])"
      ],
      "metadata": {
        "colab": {
          "base_uri": "https://localhost:8080/"
        },
        "id": "rEUIarBdfC_V",
        "outputId": "95da12cf-08d1-4bf6-b7c0-448f9ab208d1"
      },
      "execution_count": null,
      "outputs": [
        {
          "output_type": "stream",
          "name": "stdout",
          "text": [
            "Test loss: 0.2833724021911621\n",
            "Test accuracy: 0.9265999794006348\n"
          ]
        }
      ]
    },
    {
      "cell_type": "code",
      "source": [
        "# visualizing losses and accuracy\n",
        "%matplotlib inline\n",
        "\n",
        "train_loss=H.history['loss']\n",
        "val_loss=H.history['val_loss']\n",
        "train_acc=H.history['accuracy']\n",
        "val_acc=H.history['val_accuracy']\n",
        "\n",
        "epochs = range(len(train_acc))\n",
        "\n",
        "plt.plot(epochs,train_loss,'r', label='train_loss')\n",
        "plt.plot(epochs,val_loss,'b', label='val_loss')\n",
        "plt.title('train_loss vs val_loss')\n",
        "plt.legend()\n",
        "plt.figure()\n",
        "\n",
        "plt.plot(epochs,train_acc,'r', label='train_acc')\n",
        "plt.plot(epochs,val_acc,'b', label='val_acc')\n",
        "plt.title('train_acc vs val_acc')\n",
        "plt.legend()\n",
        "plt.figure()"
      ],
      "metadata": {
        "colab": {
          "base_uri": "https://localhost:8080/",
          "height": 582
        },
        "id": "djFnNA__ku-k",
        "outputId": "7214407d-be37-4546-903a-1fbb6f7dc30a"
      },
      "execution_count": null,
      "outputs": [
        {
          "output_type": "execute_result",
          "data": {
            "text/plain": [
              "<Figure size 432x288 with 0 Axes>"
            ]
          },
          "metadata": {},
          "execution_count": 30
        },
        {
          "output_type": "display_data",
          "data": {
            "text/plain": [
              "<Figure size 432x288 with 1 Axes>"
            ],
            "image/png": "[encoded data removed]"
          },
          "metadata": {
            "needs_background": "light"
          }
        },
        {
          "output_type": "display_data",
          "data": {
            "text/plain": [
              "<Figure size 432x288 with 1 Axes>"
            ],
            "image/png": "[encoded data removed]"
          },
          "metadata": {
            "needs_background": "light"
          }
        },
        {
          "output_type": "display_data",
          "data": {
            "text/plain": [
              "<Figure size 432x288 with 0 Axes>"
            ]
          },
          "metadata": {}
        }
      ]
    },
    {
      "cell_type": "code",
      "source": [
        "model = tf.keras.Sequential([\n",
        "\n",
        "         tf.keras.layers.Flatten(input_shape = (28,28,1)),\n",
        "         tf.keras.layers.Dense(512, activation='tanh'),\n",
        "\n",
        "         ])"
      ],
      "metadata": {
        "id": "sohB-S5ikx2w"
      },
      "execution_count": null,
      "outputs": []
    },
    {
      "cell_type": "code",
      "source": [
        "model.compile(optimizer='adam',\n",
        "              loss=tf.keras.losses.SparseCategoricalCrossentropy(from_logits=True),\n",
        "              metrics=['accuracy'])"
      ],
      "metadata": {
        "id": "FZh9z5OFk_43"
      },
      "execution_count": null,
      "outputs": []
    },
    {
      "cell_type": "code",
      "source": [
        "model.summary()"
      ],
      "metadata": {
        "colab": {
          "base_uri": "https://localhost:8080/"
        },
        "id": "ceaQuBAilDLZ",
        "outputId": "809e36ed-697b-4df4-acc0-3aae17b260b6"
      },
      "execution_count": null,
      "outputs": [
        {
          "output_type": "stream",
          "name": "stdout",
          "text": [
            "Model: \"sequential_2\"\n",
            "_________________________________________________________________\n",
            " Layer (type)                Output Shape              Param #   \n",
            "=================================================================\n",
            " flatten_2 (Flatten)         (None, 784)               0         \n",
            "                                                                 \n",
            " dense_2 (Dense)             (None, 512)               401920    \n",
            "                                                                 \n",
            "=================================================================\n",
            "Total params: 401,920\n",
            "Trainable params: 401,920\n",
            "Non-trainable params: 0\n",
            "_________________________________________________________________\n"
          ]
        }
      ]
    },
    {
      "cell_type": "code",
      "source": [
        "H = model.fit(X_train, y_train, validation_data=(X_test, y_test) ,epochs=50,verbose=1)"
      ],
      "metadata": {
        "colab": {
          "base_uri": "https://localhost:8080/"
        },
        "id": "1j7_gWc0lFBM",
        "outputId": "83663bed-dd53-4252-b966-57566be07e19"
      },
      "execution_count": null,
      "outputs": [
        {
          "output_type": "stream",
          "name": "stdout",
          "text": [
            "Epoch 1/50\n",
            "1875/1875 [==============================] - 12s 6ms/step - loss: 4.3330 - accuracy: 0.3491 - val_loss: 4.3041 - val_accuracy: 0.3337\n",
            "Epoch 2/50\n",
            "1875/1875 [==============================] - 12s 6ms/step - loss: 4.2980 - accuracy: 0.4087 - val_loss: 4.2977 - val_accuracy: 0.5251\n",
            "Epoch 3/50\n",
            "1875/1875 [==============================] - 10s 6ms/step - loss: 4.2903 - accuracy: 0.7051 - val_loss: 4.2915 - val_accuracy: 0.7724\n",
            "Epoch 4/50\n",
            "1875/1875 [==============================] - 10s 5ms/step - loss: 4.2856 - accuracy: 0.7473 - val_loss: 4.2906 - val_accuracy: 0.7782\n",
            "Epoch 5/50\n",
            "1875/1875 [==============================] - 10s 6ms/step - loss: 4.2838 - accuracy: 0.7495 - val_loss: 4.2897 - val_accuracy: 0.7645\n",
            "Epoch 6/50\n",
            "1875/1875 [==============================] - 11s 6ms/step - loss: 4.2824 - accuracy: 0.7594 - val_loss: 4.2889 - val_accuracy: 0.7588\n",
            "Epoch 7/50\n",
            "1875/1875 [==============================] - 11s 6ms/step - loss: 4.2812 - accuracy: 0.7680 - val_loss: 4.2892 - val_accuracy: 0.7869\n",
            "Epoch 8/50\n",
            "1875/1875 [==============================] - 11s 6ms/step - loss: 4.2805 - accuracy: 0.7751 - val_loss: 4.2887 - val_accuracy: 0.8155\n",
            "Epoch 9/50\n",
            "1875/1875 [==============================] - 10s 6ms/step - loss: 4.2796 - accuracy: 0.7849 - val_loss: 4.2892 - val_accuracy: 0.7963\n",
            "Epoch 10/50\n",
            "1875/1875 [==============================] - 10s 5ms/step - loss: 4.2789 - accuracy: 0.7881 - val_loss: 4.2890 - val_accuracy: 0.7867\n",
            "Epoch 11/50\n",
            "1875/1875 [==============================] - 10s 5ms/step - loss: 4.2784 - accuracy: 0.7910 - val_loss: 4.2893 - val_accuracy: 0.7948\n",
            "Epoch 12/50\n",
            "1875/1875 [==============================] - 11s 6ms/step - loss: 4.2778 - accuracy: 0.7891 - val_loss: 4.2888 - val_accuracy: 0.7956\n",
            "Epoch 13/50\n",
            "1875/1875 [==============================] - 10s 5ms/step - loss: 4.2774 - accuracy: 0.7964 - val_loss: 4.2895 - val_accuracy: 0.7970\n",
            "Epoch 14/50\n",
            "1875/1875 [==============================] - 11s 6ms/step - loss: 4.2771 - accuracy: 0.7955 - val_loss: 4.2896 - val_accuracy: 0.7969\n",
            "Epoch 15/50\n",
            "1875/1875 [==============================] - 10s 6ms/step - loss: 4.2767 - accuracy: 0.7990 - val_loss: 4.2903 - val_accuracy: 0.8138\n",
            "Epoch 16/50\n",
            "1875/1875 [==============================] - 10s 5ms/step - loss: 4.2764 - accuracy: 0.8019 - val_loss: 4.2891 - val_accuracy: 0.8082\n",
            "Epoch 17/50\n",
            "1875/1875 [==============================] - 10s 5ms/step - loss: 4.2759 - accuracy: 0.8018 - val_loss: 4.2894 - val_accuracy: 0.8153\n",
            "Epoch 18/50\n",
            "1875/1875 [==============================] - 10s 5ms/step - loss: 4.2757 - accuracy: 0.8060 - val_loss: 4.2888 - val_accuracy: 0.8125\n",
            "Epoch 19/50\n",
            "1875/1875 [==============================] - 11s 6ms/step - loss: 4.2755 - accuracy: 0.8098 - val_loss: 4.2893 - val_accuracy: 0.8092\n",
            "Epoch 20/50\n",
            "1875/1875 [==============================] - 11s 6ms/step - loss: 4.2751 - accuracy: 0.8099 - val_loss: 4.2892 - val_accuracy: 0.8164\n",
            "Epoch 21/50\n",
            "1875/1875 [==============================] - 10s 6ms/step - loss: 4.2750 - accuracy: 0.8115 - val_loss: 4.2898 - val_accuracy: 0.8119\n",
            "Epoch 22/50\n",
            "1875/1875 [==============================] - 10s 5ms/step - loss: 4.2748 - accuracy: 0.8144 - val_loss: 4.2908 - val_accuracy: 0.8236\n",
            "Epoch 23/50\n",
            "1875/1875 [==============================] - 11s 6ms/step - loss: 4.2746 - accuracy: 0.8150 - val_loss: 4.2902 - val_accuracy: 0.8273\n",
            "Epoch 24/50\n",
            "1875/1875 [==============================] - 10s 5ms/step - loss: 4.2742 - accuracy: 0.8160 - val_loss: 4.2909 - val_accuracy: 0.8247\n",
            "Epoch 25/50\n",
            "1875/1875 [==============================] - 10s 5ms/step - loss: 4.2742 - accuracy: 0.8168 - val_loss: 4.2902 - val_accuracy: 0.8199\n",
            "Epoch 26/50\n",
            "1875/1875 [==============================] - 11s 6ms/step - loss: 4.2739 - accuracy: 0.8162 - val_loss: 4.2908 - val_accuracy: 0.8274\n",
            "Epoch 27/50\n",
            "1875/1875 [==============================] - 10s 6ms/step - loss: 4.2739 - accuracy: 0.8178 - val_loss: 4.2901 - val_accuracy: 0.8248\n",
            "Epoch 28/50\n",
            "1875/1875 [==============================] - 11s 6ms/step - loss: 4.2737 - accuracy: 0.8194 - val_loss: 4.2904 - val_accuracy: 0.8229\n",
            "Epoch 29/50\n",
            "1875/1875 [==============================] - 10s 6ms/step - loss: 4.2736 - accuracy: 0.8229 - val_loss: 4.2917 - val_accuracy: 0.8200\n",
            "Epoch 30/50\n",
            "1875/1875 [==============================] - 13s 7ms/step - loss: 4.2733 - accuracy: 0.8214 - val_loss: 4.2908 - val_accuracy: 0.8292\n",
            "Epoch 31/50\n",
            "1875/1875 [==============================] - 13s 7ms/step - loss: 4.2733 - accuracy: 0.8227 - val_loss: 4.2912 - val_accuracy: 0.8295\n",
            "Epoch 32/50\n",
            "1875/1875 [==============================] - 11s 6ms/step - loss: 4.2731 - accuracy: 0.8238 - val_loss: 4.2914 - val_accuracy: 0.8344\n",
            "Epoch 33/50\n",
            "1875/1875 [==============================] - 11s 6ms/step - loss: 4.2731 - accuracy: 0.8237 - val_loss: 4.2922 - val_accuracy: 0.8290\n",
            "Epoch 34/50\n",
            "1875/1875 [==============================] - 11s 6ms/step - loss: 4.2728 - accuracy: 0.8263 - val_loss: 4.2918 - val_accuracy: 0.8401\n",
            "Epoch 35/50\n",
            "1875/1875 [==============================] - 11s 6ms/step - loss: 4.2727 - accuracy: 0.8277 - val_loss: 4.2912 - val_accuracy: 0.8374\n",
            "Epoch 36/50\n",
            "1875/1875 [==============================] - 11s 6ms/step - loss: 4.2726 - accuracy: 0.8248 - val_loss: 4.2913 - val_accuracy: 0.8316\n",
            "Epoch 37/50\n",
            "1875/1875 [==============================] - 11s 6ms/step - loss: 4.2725 - accuracy: 0.8269 - val_loss: 4.2922 - val_accuracy: 0.8295\n",
            "Epoch 38/50\n",
            "1875/1875 [==============================] - 11s 6ms/step - loss: 4.2724 - accuracy: 0.8274 - val_loss: 4.2936 - val_accuracy: 0.8348\n",
            "Epoch 39/50\n",
            "1875/1875 [==============================] - 11s 6ms/step - loss: 4.2723 - accuracy: 0.8286 - val_loss: 4.2918 - val_accuracy: 0.8348\n",
            "Epoch 40/50\n",
            "1875/1875 [==============================] - 11s 6ms/step - loss: 4.2722 - accuracy: 0.8284 - val_loss: 4.2917 - val_accuracy: 0.8363\n",
            "Epoch 41/50\n",
            "1875/1875 [==============================] - 11s 6ms/step - loss: 4.2721 - accuracy: 0.8294 - val_loss: 4.2929 - val_accuracy: 0.8367\n",
            "Epoch 42/50\n",
            "1875/1875 [==============================] - 11s 6ms/step - loss: 4.2720 - accuracy: 0.8308 - val_loss: 4.2926 - val_accuracy: 0.8393\n",
            "Epoch 43/50\n",
            "1875/1875 [==============================] - 11s 6ms/step - loss: 4.2719 - accuracy: 0.8324 - val_loss: 4.2917 - val_accuracy: 0.8390\n",
            "Epoch 44/50\n",
            "1875/1875 [==============================] - 11s 6ms/step - loss: 4.2718 - accuracy: 0.8311 - val_loss: 4.2937 - val_accuracy: 0.8325\n",
            "Epoch 45/50\n",
            "1875/1875 [==============================] - 11s 6ms/step - loss: 4.2717 - accuracy: 0.8329 - val_loss: 4.2928 - val_accuracy: 0.8455\n",
            "Epoch 46/50\n",
            "1875/1875 [==============================] - 11s 6ms/step - loss: 4.2717 - accuracy: 0.8323 - val_loss: 4.2929 - val_accuracy: 0.8436\n",
            "Epoch 47/50\n",
            "1875/1875 [==============================] - 11s 6ms/step - loss: 4.2716 - accuracy: 0.8328 - val_loss: 4.2924 - val_accuracy: 0.8468\n",
            "Epoch 48/50\n",
            "1875/1875 [==============================] - 11s 6ms/step - loss: 4.2715 - accuracy: 0.8333 - val_loss: 4.2917 - val_accuracy: 0.8369\n",
            "Epoch 49/50\n",
            "1875/1875 [==============================] - 10s 6ms/step - loss: 4.2715 - accuracy: 0.8325 - val_loss: 4.2916 - val_accuracy: 0.8389\n",
            "Epoch 50/50\n",
            "1875/1875 [==============================] - 10s 5ms/step - loss: 4.2714 - accuracy: 0.8344 - val_loss: 4.2934 - val_accuracy: 0.8490\n"
          ]
        }
      ]
    },
    {
      "cell_type": "code",
      "source": [
        "score = model.evaluate(X_test, y_test, verbose=0)\n",
        "print('Test loss:', score[0]) \n",
        "print('Test accuracy:', score[1])"
      ],
      "metadata": {
        "colab": {
          "base_uri": "https://localhost:8080/"
        },
        "id": "soUZd3J1hkGo",
        "outputId": "eed4970c-9b66-4a77-b0b0-6f8035cd9241"
      },
      "execution_count": null,
      "outputs": [
        {
          "output_type": "stream",
          "name": "stdout",
          "text": [
            "Test loss: 4.293385028839111\n",
            "Test accuracy: 0.8489999771118164\n"
          ]
        }
      ]
    },
    {
      "cell_type": "code",
      "source": [
        "# visualizing losses and accuracy\n",
        "%matplotlib inline\n",
        "\n",
        "train_loss=H.history['loss']\n",
        "val_loss=H.history['val_loss']\n",
        "train_acc=H.history['accuracy']\n",
        "val_acc=H.history['val_accuracy']\n",
        "\n",
        "epochs = range(len(train_acc))\n",
        "\n",
        "plt.plot(epochs,train_loss,'r', label='train_loss')\n",
        "plt.plot(epochs,val_loss,'b', label='val_loss')\n",
        "plt.title('train_loss vs val_loss')\n",
        "plt.legend()\n",
        "plt.figure()\n",
        "\n",
        "plt.plot(epochs,train_acc,'r', label='train_acc')\n",
        "plt.plot(epochs,val_acc,'b', label='val_acc')\n",
        "plt.title('train_acc vs val_acc')\n",
        "plt.legend()\n",
        "plt.figure()"
      ],
      "metadata": {
        "colab": {
          "base_uri": "https://localhost:8080/",
          "height": 582
        },
        "id": "5Xn3dYHslIBu",
        "outputId": "18f3c183-5f04-4e37-9860-595c00d6f6dd"
      },
      "execution_count": null,
      "outputs": [
        {
          "output_type": "execute_result",
          "data": {
            "text/plain": [
              "<Figure size 432x288 with 0 Axes>"
            ]
          },
          "metadata": {},
          "execution_count": 36
        },
        {
          "output_type": "display_data",
          "data": {
            "text/plain": [
              "<Figure size 432x288 with 1 Axes>"
            ],
            "image/png": "[encoded data removed]"
          },
          "metadata": {
            "needs_background": "light"
          }
        },
        {
          "output_type": "display_data",
          "data": {
            "text/plain": [
              "<Figure size 432x288 with 1 Axes>"
            ],
            "image/png": "[encoded data removed]"
          },
          "metadata": {
            "needs_background": "light"
          }
        },
        {
          "output_type": "display_data",
          "data": {
            "text/plain": [
              "<Figure size 432x288 with 0 Axes>"
            ]
          },
          "metadata": {}
        }
      ]
    },
    {
      "cell_type": "code",
      "source": [
        "model = tf.keras.Sequential([\n",
        "\n",
        "         tf.keras.layers.Flatten(input_shape = (28,28,1)),\n",
        "         tf.keras.layers.Dense(128, activation='relu'),\n",
        "\n",
        "         ])"
      ],
      "metadata": {
        "id": "7vsDzM1YlNgI"
      },
      "execution_count": null,
      "outputs": []
    },
    {
      "cell_type": "code",
      "source": [
        "model.compile(optimizer='adam',\n",
        "              loss=tf.keras.losses.SparseCategoricalCrossentropy(from_logits=True),\n",
        "              metrics=['accuracy'])"
      ],
      "metadata": {
        "id": "MPbD9IlKlPTd"
      },
      "execution_count": null,
      "outputs": []
    },
    {
      "cell_type": "code",
      "source": [
        "model.summary()"
      ],
      "metadata": {
        "colab": {
          "base_uri": "https://localhost:8080/"
        },
        "id": "GuNUSTWllPZR",
        "outputId": "be66fd60-936e-4ffc-9c68-8225d91b6b24"
      },
      "execution_count": null,
      "outputs": [
        {
          "output_type": "stream",
          "name": "stdout",
          "text": [
            "Model: \"sequential_3\"\n",
            "_________________________________________________________________\n",
            " Layer (type)                Output Shape              Param #   \n",
            "=================================================================\n",
            " flatten_3 (Flatten)         (None, 784)               0         \n",
            "                                                                 \n",
            " dense_3 (Dense)             (None, 128)               100480    \n",
            "                                                                 \n",
            "=================================================================\n",
            "Total params: 100,480\n",
            "Trainable params: 100,480\n",
            "Non-trainable params: 0\n",
            "_________________________________________________________________\n"
          ]
        }
      ]
    },
    {
      "cell_type": "code",
      "source": [
        "H = model.fit(X_train, y_train, validation_data=(X_test, y_test) ,epochs=50,verbose=1)"
      ],
      "metadata": {
        "colab": {
          "base_uri": "https://localhost:8080/"
        },
        "id": "LPiXLk7jlPbK",
        "outputId": "5f089cf8-230f-4f97-cc99-2f5cf35c3750"
      },
      "execution_count": null,
      "outputs": [
        {
          "output_type": "stream",
          "name": "stdout",
          "text": [
            "Epoch 1/50\n",
            "1875/1875 [==============================] - 7s 3ms/step - loss: 1.0566 - accuracy: 0.7849 - val_loss: 0.7978 - val_accuracy: 0.8259\n",
            "Epoch 2/50\n",
            "1875/1875 [==============================] - 6s 3ms/step - loss: 0.8040 - accuracy: 0.8238 - val_loss: 0.7619 - val_accuracy: 0.8332\n",
            "Epoch 3/50\n",
            "1875/1875 [==============================] - 6s 3ms/step - loss: 0.7772 - accuracy: 0.8296 - val_loss: 0.7466 - val_accuracy: 0.8371\n",
            "Epoch 4/50\n",
            "1875/1875 [==============================] - 5s 3ms/step - loss: 0.7635 - accuracy: 0.8314 - val_loss: 0.7418 - val_accuracy: 0.8364\n",
            "Epoch 5/50\n",
            "1875/1875 [==============================] - 6s 3ms/step - loss: 0.7547 - accuracy: 0.8344 - val_loss: 0.7411 - val_accuracy: 0.8380\n",
            "Epoch 6/50\n",
            "1875/1875 [==============================] - 6s 3ms/step - loss: 0.7484 - accuracy: 0.8356 - val_loss: 0.7378 - val_accuracy: 0.8383\n",
            "Epoch 7/50\n",
            "1875/1875 [==============================] - 5s 3ms/step - loss: 0.7441 - accuracy: 0.8371 - val_loss: 0.7361 - val_accuracy: 0.8381\n",
            "Epoch 8/50\n",
            "1875/1875 [==============================] - 5s 3ms/step - loss: 0.7402 - accuracy: 0.8377 - val_loss: 0.7324 - val_accuracy: 0.8377\n",
            "Epoch 9/50\n",
            "1875/1875 [==============================] - 5s 3ms/step - loss: 0.7369 - accuracy: 0.8386 - val_loss: 0.7336 - val_accuracy: 0.8378\n",
            "Epoch 10/50\n",
            "1875/1875 [==============================] - 5s 3ms/step - loss: 0.7343 - accuracy: 0.8391 - val_loss: 0.7328 - val_accuracy: 0.8383\n",
            "Epoch 11/50\n",
            "1875/1875 [==============================] - 5s 3ms/step - loss: 0.7318 - accuracy: 0.8393 - val_loss: 0.7323 - val_accuracy: 0.8387\n",
            "Epoch 12/50\n",
            "1875/1875 [==============================] - 5s 3ms/step - loss: 0.7296 - accuracy: 0.8401 - val_loss: 0.7296 - val_accuracy: 0.8395\n",
            "Epoch 13/50\n",
            "1875/1875 [==============================] - 5s 3ms/step - loss: 0.7279 - accuracy: 0.8401 - val_loss: 0.7377 - val_accuracy: 0.8383\n",
            "Epoch 14/50\n",
            "1875/1875 [==============================] - 5s 3ms/step - loss: 0.7264 - accuracy: 0.8407 - val_loss: 0.7352 - val_accuracy: 0.8381\n",
            "Epoch 15/50\n",
            "1875/1875 [==============================] - 6s 3ms/step - loss: 0.7252 - accuracy: 0.8411 - val_loss: 0.7293 - val_accuracy: 0.8404\n",
            "Epoch 16/50\n",
            "1875/1875 [==============================] - 6s 3ms/step - loss: 0.7238 - accuracy: 0.8417 - val_loss: 0.7292 - val_accuracy: 0.8402\n",
            "Epoch 17/50\n",
            "1875/1875 [==============================] - 5s 3ms/step - loss: 0.7226 - accuracy: 0.8408 - val_loss: 0.7300 - val_accuracy: 0.8413\n",
            "Epoch 18/50\n",
            "1875/1875 [==============================] - 5s 3ms/step - loss: 0.7217 - accuracy: 0.8413 - val_loss: 0.7310 - val_accuracy: 0.8394\n",
            "Epoch 19/50\n",
            "1875/1875 [==============================] - 5s 3ms/step - loss: 0.7205 - accuracy: 0.8418 - val_loss: 0.7304 - val_accuracy: 0.8400\n",
            "Epoch 20/50\n",
            "1875/1875 [==============================] - 5s 3ms/step - loss: 0.7193 - accuracy: 0.8425 - val_loss: 0.7296 - val_accuracy: 0.8405\n",
            "Epoch 21/50\n",
            "1875/1875 [==============================] - 5s 3ms/step - loss: 0.7185 - accuracy: 0.8420 - val_loss: 0.7302 - val_accuracy: 0.8405\n",
            "Epoch 22/50\n",
            "1875/1875 [==============================] - 5s 3ms/step - loss: 0.7178 - accuracy: 0.8426 - val_loss: 0.7346 - val_accuracy: 0.8388\n",
            "Epoch 23/50\n",
            "1875/1875 [==============================] - 5s 3ms/step - loss: 0.7169 - accuracy: 0.8423 - val_loss: 0.7295 - val_accuracy: 0.8412\n",
            "Epoch 24/50\n",
            "1875/1875 [==============================] - 5s 3ms/step - loss: 0.7159 - accuracy: 0.8433 - val_loss: 0.7317 - val_accuracy: 0.8405\n",
            "Epoch 25/50\n",
            "1875/1875 [==============================] - 5s 3ms/step - loss: 0.7154 - accuracy: 0.8429 - val_loss: 0.7307 - val_accuracy: 0.8407\n",
            "Epoch 26/50\n",
            "1875/1875 [==============================] - 5s 3ms/step - loss: 0.7146 - accuracy: 0.8432 - val_loss: 0.7306 - val_accuracy: 0.8405\n",
            "Epoch 27/50\n",
            "1875/1875 [==============================] - 5s 3ms/step - loss: 0.7144 - accuracy: 0.8436 - val_loss: 0.7342 - val_accuracy: 0.8394\n",
            "Epoch 28/50\n",
            "1875/1875 [==============================] - 5s 3ms/step - loss: 0.7131 - accuracy: 0.8439 - val_loss: 0.7296 - val_accuracy: 0.8408\n",
            "Epoch 29/50\n",
            "1875/1875 [==============================] - 5s 3ms/step - loss: 0.7129 - accuracy: 0.8440 - val_loss: 0.7348 - val_accuracy: 0.8387\n",
            "Epoch 30/50\n",
            "1875/1875 [==============================] - 5s 3ms/step - loss: 0.7122 - accuracy: 0.8440 - val_loss: 0.7337 - val_accuracy: 0.8399\n",
            "Epoch 31/50\n",
            "1875/1875 [==============================] - 5s 3ms/step - loss: 0.7116 - accuracy: 0.8435 - val_loss: 0.7336 - val_accuracy: 0.8405\n",
            "Epoch 32/50\n",
            "1875/1875 [==============================] - 5s 3ms/step - loss: 0.7116 - accuracy: 0.8441 - val_loss: 0.7333 - val_accuracy: 0.8396\n",
            "Epoch 33/50\n",
            "1875/1875 [==============================] - 5s 3ms/step - loss: 0.7109 - accuracy: 0.8441 - val_loss: 0.7330 - val_accuracy: 0.8405\n",
            "Epoch 34/50\n",
            "1875/1875 [==============================] - 5s 3ms/step - loss: 0.7104 - accuracy: 0.8440 - val_loss: 0.7327 - val_accuracy: 0.8409\n",
            "Epoch 35/50\n",
            "1875/1875 [==============================] - 5s 3ms/step - loss: 0.7102 - accuracy: 0.8439 - val_loss: 0.7362 - val_accuracy: 0.8398\n",
            "Epoch 36/50\n",
            "1875/1875 [==============================] - 5s 3ms/step - loss: 0.7096 - accuracy: 0.8438 - val_loss: 0.7329 - val_accuracy: 0.8406\n",
            "Epoch 37/50\n",
            "1875/1875 [==============================] - 5s 3ms/step - loss: 0.7091 - accuracy: 0.8440 - val_loss: 0.7379 - val_accuracy: 0.8392\n",
            "Epoch 38/50\n",
            "1875/1875 [==============================] - 5s 3ms/step - loss: 0.7085 - accuracy: 0.8446 - val_loss: 0.7324 - val_accuracy: 0.8400\n",
            "Epoch 39/50\n",
            "1875/1875 [==============================] - 5s 3ms/step - loss: 0.7084 - accuracy: 0.8442 - val_loss: 0.7361 - val_accuracy: 0.8410\n",
            "Epoch 40/50\n",
            "1875/1875 [==============================] - 5s 3ms/step - loss: 0.7075 - accuracy: 0.8445 - val_loss: 0.7348 - val_accuracy: 0.8391\n",
            "Epoch 41/50\n",
            "1875/1875 [==============================] - 5s 3ms/step - loss: 0.7077 - accuracy: 0.8449 - val_loss: 0.7385 - val_accuracy: 0.8389\n",
            "Epoch 42/50\n",
            "1875/1875 [==============================] - 5s 3ms/step - loss: 0.7071 - accuracy: 0.8448 - val_loss: 0.7334 - val_accuracy: 0.8414\n",
            "Epoch 43/50\n",
            "1875/1875 [==============================] - 5s 3ms/step - loss: 0.7071 - accuracy: 0.8448 - val_loss: 0.7343 - val_accuracy: 0.8405\n",
            "Epoch 44/50\n",
            "1875/1875 [==============================] - 6s 3ms/step - loss: 0.7069 - accuracy: 0.8446 - val_loss: 0.7373 - val_accuracy: 0.8400\n",
            "Epoch 45/50\n",
            "1875/1875 [==============================] - 5s 3ms/step - loss: 0.7062 - accuracy: 0.8447 - val_loss: 0.7396 - val_accuracy: 0.8391\n",
            "Epoch 46/50\n",
            "1875/1875 [==============================] - 5s 3ms/step - loss: 0.7062 - accuracy: 0.8446 - val_loss: 0.7380 - val_accuracy: 0.8392\n",
            "Epoch 47/50\n",
            "1875/1875 [==============================] - 5s 3ms/step - loss: 0.7050 - accuracy: 0.8452 - val_loss: 0.7408 - val_accuracy: 0.8382\n",
            "Epoch 48/50\n",
            "1875/1875 [==============================] - 5s 3ms/step - loss: 0.7051 - accuracy: 0.8456 - val_loss: 0.7365 - val_accuracy: 0.8406\n",
            "Epoch 49/50\n",
            "1875/1875 [==============================] - 5s 3ms/step - loss: 0.7051 - accuracy: 0.8453 - val_loss: 0.7392 - val_accuracy: 0.8391\n",
            "Epoch 50/50\n",
            "1875/1875 [==============================] - 5s 3ms/step - loss: 0.7049 - accuracy: 0.8447 - val_loss: 0.7385 - val_accuracy: 0.8391\n"
          ]
        }
      ]
    },
    {
      "cell_type": "code",
      "source": [
        "score = model.evaluate(X_test, y_test, verbose=0)\n",
        "print('Test loss:', score[0]) \n",
        "print('Test accuracy:', score[1])"
      ],
      "metadata": {
        "colab": {
          "base_uri": "https://localhost:8080/"
        },
        "id": "5X4MVL9mj1j2",
        "outputId": "69e69545-5434-44c7-9562-37a90ae63155"
      },
      "execution_count": null,
      "outputs": [
        {
          "output_type": "stream",
          "name": "stdout",
          "text": [
            "Test loss: 0.7384960651397705\n",
            "Test accuracy: 0.8391000032424927\n"
          ]
        }
      ]
    },
    {
      "cell_type": "code",
      "source": [
        "# visualizing losses and accuracy\n",
        "%matplotlib inline\n",
        "\n",
        "train_loss=H.history['loss']\n",
        "val_loss=H.history['val_loss']\n",
        "train_acc=H.history['accuracy']\n",
        "val_acc=H.history['val_accuracy']\n",
        "\n",
        "epochs = range(len(train_acc))\n",
        "\n",
        "plt.plot(epochs,train_loss,'r', label='train_loss')\n",
        "plt.plot(epochs,val_loss,'b', label='val_loss')\n",
        "plt.title('train_loss vs val_loss')\n",
        "plt.legend()\n",
        "plt.figure()\n",
        "\n",
        "plt.plot(epochs,train_acc,'r', label='train_acc')\n",
        "plt.plot(epochs,val_acc,'b', label='val_acc')\n",
        "plt.title('train_acc vs val_acc')\n",
        "plt.legend()\n",
        "plt.figure()"
      ],
      "metadata": {
        "colab": {
          "base_uri": "https://localhost:8080/",
          "height": 582
        },
        "id": "zxn6lpH8lPdM",
        "outputId": "e178a0bb-f29e-4240-effa-be171c982d05"
      },
      "execution_count": null,
      "outputs": [
        {
          "output_type": "execute_result",
          "data": {
            "text/plain": [
              "<Figure size 432x288 with 0 Axes>"
            ]
          },
          "metadata": {},
          "execution_count": 42
        },
        {
          "output_type": "display_data",
          "data": {
            "text/plain": [
              "<Figure size 432x288 with 1 Axes>"
            ],
            "image/png": "[encoded data removed]"
          },
          "metadata": {
            "needs_background": "light"
          }
        },
        {
          "output_type": "display_data",
          "data": {
            "text/plain": [
              "<Figure size 432x288 with 1 Axes>"
            ],
            "image/png": "[encoded data removed]"
          },
          "metadata": {
            "needs_background": "light"
          }
        },
        {
          "output_type": "display_data",
          "data": {
            "text/plain": [
              "<Figure size 432x288 with 0 Axes>"
            ]
          },
          "metadata": {}
        }
      ]
    },
    {
      "cell_type": "code",
      "source": [
        "model = tf.keras.Sequential([\n",
        "\n",
        "         tf.keras.layers.Flatten(input_shape = (28,28,1)),\n",
        "         tf.keras.layers.Dense(1024, activation='relu'),\n",
        "\n",
        "         ])"
      ],
      "metadata": {
        "id": "f5CuRmc7lPfE"
      },
      "execution_count": null,
      "outputs": []
    },
    {
      "cell_type": "code",
      "source": [
        "model.compile(optimizer='adam',\n",
        "              loss=tf.keras.losses.SparseCategoricalCrossentropy(from_logits=True),\n",
        "              metrics=['accuracy'])"
      ],
      "metadata": {
        "id": "phmvSP7LlPg5"
      },
      "execution_count": null,
      "outputs": []
    },
    {
      "cell_type": "code",
      "source": [
        "model.summary()"
      ],
      "metadata": {
        "colab": {
          "base_uri": "https://localhost:8080/"
        },
        "id": "-GOXSYR7lPkP",
        "outputId": "f6631bf7-cfdf-49bb-89f3-6fdcad878e9e"
      },
      "execution_count": null,
      "outputs": [
        {
          "output_type": "stream",
          "name": "stdout",
          "text": [
            "Model: \"sequential_4\"\n",
            "_________________________________________________________________\n",
            " Layer (type)                Output Shape              Param #   \n",
            "=================================================================\n",
            " flatten_4 (Flatten)         (None, 784)               0         \n",
            "                                                                 \n",
            " dense_4 (Dense)             (None, 1024)              803840    \n",
            "                                                                 \n",
            "=================================================================\n",
            "Total params: 803,840\n",
            "Trainable params: 803,840\n",
            "Non-trainable params: 0\n",
            "_________________________________________________________________\n"
          ]
        }
      ]
    },
    {
      "cell_type": "code",
      "source": [
        "H = model.fit(X_train, y_train, validation_data=(X_test, y_test) ,epochs=50,verbose=1)"
      ],
      "metadata": {
        "colab": {
          "base_uri": "https://localhost:8080/"
        },
        "id": "jJ811ixclwQq",
        "outputId": "c25fb48e-4ad9-4634-962f-5aea6a8e95b7"
      },
      "execution_count": null,
      "outputs": [
        {
          "output_type": "stream",
          "name": "stdout",
          "text": [
            "Epoch 1/50\n",
            "1875/1875 [==============================] - 20s 10ms/step - loss: 1.4478 - accuracy: 0.7969 - val_loss: 1.0957 - val_accuracy: 0.8346\n",
            "Epoch 2/50\n",
            "1875/1875 [==============================] - 17s 9ms/step - loss: 1.0683 - accuracy: 0.8341 - val_loss: 1.0349 - val_accuracy: 0.8400\n",
            "Epoch 3/50\n",
            "1875/1875 [==============================] - 17s 9ms/step - loss: 1.0276 - accuracy: 0.8386 - val_loss: 1.0206 - val_accuracy: 0.8428\n",
            "Epoch 4/50\n",
            "1875/1875 [==============================] - 17s 9ms/step - loss: 1.0070 - accuracy: 0.8411 - val_loss: 0.9972 - val_accuracy: 0.8431\n",
            "Epoch 5/50\n",
            "1875/1875 [==============================] - 17s 9ms/step - loss: 0.9935 - accuracy: 0.8434 - val_loss: 0.9896 - val_accuracy: 0.8447\n",
            "Epoch 6/50\n",
            "1875/1875 [==============================] - 17s 9ms/step - loss: 0.9840 - accuracy: 0.8442 - val_loss: 0.9858 - val_accuracy: 0.8466\n",
            "Epoch 7/50\n",
            "1875/1875 [==============================] - 17s 9ms/step - loss: 0.9766 - accuracy: 0.8452 - val_loss: 0.9832 - val_accuracy: 0.8451\n",
            "Epoch 8/50\n",
            "1875/1875 [==============================] - 17s 9ms/step - loss: 0.9704 - accuracy: 0.8467 - val_loss: 0.9808 - val_accuracy: 0.8458\n",
            "Epoch 9/50\n",
            "1875/1875 [==============================] - 16s 9ms/step - loss: 0.9650 - accuracy: 0.8473 - val_loss: 0.9768 - val_accuracy: 0.8457\n",
            "Epoch 10/50\n",
            "1875/1875 [==============================] - 17s 9ms/step - loss: 0.9615 - accuracy: 0.8479 - val_loss: 0.9740 - val_accuracy: 0.8455\n",
            "Epoch 11/50\n",
            "1875/1875 [==============================] - 17s 9ms/step - loss: 0.9573 - accuracy: 0.8487 - val_loss: 0.9714 - val_accuracy: 0.8464\n",
            "Epoch 12/50\n",
            "1875/1875 [==============================] - 17s 9ms/step - loss: 0.9538 - accuracy: 0.8485 - val_loss: 0.9716 - val_accuracy: 0.8465\n",
            "Epoch 13/50\n",
            "1875/1875 [==============================] - 17s 9ms/step - loss: 0.9502 - accuracy: 0.8491 - val_loss: 0.9686 - val_accuracy: 0.8455\n",
            "Epoch 14/50\n",
            "1875/1875 [==============================] - 19s 10ms/step - loss: 0.9476 - accuracy: 0.8497 - val_loss: 0.9705 - val_accuracy: 0.8468\n",
            "Epoch 15/50\n",
            "1875/1875 [==============================] - 18s 10ms/step - loss: 0.9446 - accuracy: 0.8502 - val_loss: 0.9692 - val_accuracy: 0.8459\n",
            "Epoch 16/50\n",
            "1875/1875 [==============================] - 18s 9ms/step - loss: 0.9428 - accuracy: 0.8511 - val_loss: 0.9671 - val_accuracy: 0.8466\n",
            "Epoch 17/50\n",
            "1875/1875 [==============================] - 18s 9ms/step - loss: 0.9409 - accuracy: 0.8505 - val_loss: 0.9701 - val_accuracy: 0.8476\n",
            "Epoch 18/50\n",
            "1875/1875 [==============================] - 17s 9ms/step - loss: 0.9388 - accuracy: 0.8511 - val_loss: 0.9669 - val_accuracy: 0.8459\n",
            "Epoch 19/50\n",
            "1875/1875 [==============================] - 17s 9ms/step - loss: 0.9368 - accuracy: 0.8519 - val_loss: 0.9674 - val_accuracy: 0.8466\n",
            "Epoch 20/50\n",
            "1875/1875 [==============================] - 17s 9ms/step - loss: 0.9354 - accuracy: 0.8512 - val_loss: 0.9699 - val_accuracy: 0.8475\n",
            "Epoch 21/50\n",
            "1875/1875 [==============================] - 17s 9ms/step - loss: 0.9336 - accuracy: 0.8519 - val_loss: 0.9636 - val_accuracy: 0.8473\n",
            "Epoch 22/50\n",
            "1875/1875 [==============================] - 18s 9ms/step - loss: 0.9321 - accuracy: 0.8516 - val_loss: 0.9631 - val_accuracy: 0.8471\n",
            "Epoch 23/50\n",
            "1875/1875 [==============================] - 18s 9ms/step - loss: 0.9308 - accuracy: 0.8520 - val_loss: 0.9647 - val_accuracy: 0.8467\n",
            "Epoch 24/50\n",
            "1875/1875 [==============================] - 17s 9ms/step - loss: 0.9296 - accuracy: 0.8529 - val_loss: 0.9678 - val_accuracy: 0.8472\n",
            "Epoch 25/50\n",
            "1875/1875 [==============================] - 17s 9ms/step - loss: 0.9282 - accuracy: 0.8519 - val_loss: 0.9621 - val_accuracy: 0.8469\n",
            "Epoch 26/50\n",
            "1875/1875 [==============================] - 17s 9ms/step - loss: 0.9269 - accuracy: 0.8525 - val_loss: 0.9604 - val_accuracy: 0.8470\n",
            "Epoch 27/50\n",
            "1875/1875 [==============================] - 17s 9ms/step - loss: 0.9257 - accuracy: 0.8530 - val_loss: 0.9623 - val_accuracy: 0.8474\n",
            "Epoch 28/50\n",
            "1875/1875 [==============================] - 17s 9ms/step - loss: 0.9246 - accuracy: 0.8534 - val_loss: 0.9612 - val_accuracy: 0.8466\n",
            "Epoch 29/50\n",
            "1875/1875 [==============================] - 17s 9ms/step - loss: 0.9238 - accuracy: 0.8532 - val_loss: 0.9635 - val_accuracy: 0.8470\n",
            "Epoch 30/50\n",
            "1875/1875 [==============================] - 17s 9ms/step - loss: 0.9229 - accuracy: 0.8530 - val_loss: 0.9654 - val_accuracy: 0.8465\n",
            "Epoch 31/50\n",
            "1875/1875 [==============================] - 18s 9ms/step - loss: 0.9220 - accuracy: 0.8534 - val_loss: 0.9675 - val_accuracy: 0.8466\n",
            "Epoch 32/50\n",
            "1875/1875 [==============================] - 18s 10ms/step - loss: 0.9213 - accuracy: 0.8535 - val_loss: 0.9639 - val_accuracy: 0.8448\n",
            "Epoch 33/50\n",
            "1875/1875 [==============================] - 18s 10ms/step - loss: 0.9200 - accuracy: 0.8537 - val_loss: 0.9689 - val_accuracy: 0.8460\n",
            "Epoch 34/50\n",
            "1875/1875 [==============================] - 18s 10ms/step - loss: 0.9191 - accuracy: 0.8536 - val_loss: 0.9644 - val_accuracy: 0.8460\n",
            "Epoch 35/50\n",
            "1875/1875 [==============================] - 18s 9ms/step - loss: 0.9186 - accuracy: 0.8539 - val_loss: 0.9659 - val_accuracy: 0.8463\n",
            "Epoch 36/50\n",
            "1875/1875 [==============================] - 17s 9ms/step - loss: 0.9179 - accuracy: 0.8533 - val_loss: 0.9643 - val_accuracy: 0.8463\n",
            "Epoch 37/50\n",
            "1875/1875 [==============================] - 18s 9ms/step - loss: 0.9168 - accuracy: 0.8538 - val_loss: 0.9638 - val_accuracy: 0.8465\n",
            "Epoch 38/50\n",
            "1875/1875 [==============================] - 18s 9ms/step - loss: 0.9164 - accuracy: 0.8541 - val_loss: 0.9620 - val_accuracy: 0.8467\n",
            "Epoch 39/50\n",
            "1875/1875 [==============================] - 18s 10ms/step - loss: 0.9156 - accuracy: 0.8538 - val_loss: 0.9627 - val_accuracy: 0.8469\n",
            "Epoch 40/50\n",
            "1875/1875 [==============================] - 18s 9ms/step - loss: 0.9150 - accuracy: 0.8544 - val_loss: 0.9608 - val_accuracy: 0.8472\n",
            "Epoch 41/50\n",
            "1875/1875 [==============================] - 18s 10ms/step - loss: 0.9145 - accuracy: 0.8545 - val_loss: 0.9608 - val_accuracy: 0.8477\n",
            "Epoch 42/50\n",
            "1875/1875 [==============================] - 18s 10ms/step - loss: 0.9143 - accuracy: 0.8543 - val_loss: 0.9622 - val_accuracy: 0.8473\n",
            "Epoch 43/50\n",
            "1875/1875 [==============================] - 17s 9ms/step - loss: 0.9131 - accuracy: 0.8541 - val_loss: 0.9667 - val_accuracy: 0.8460\n",
            "Epoch 44/50\n",
            "1875/1875 [==============================] - 17s 9ms/step - loss: 0.9127 - accuracy: 0.8543 - val_loss: 0.9623 - val_accuracy: 0.8472\n",
            "Epoch 45/50\n",
            "1875/1875 [==============================] - 17s 9ms/step - loss: 0.9120 - accuracy: 0.8547 - val_loss: 0.9626 - val_accuracy: 0.8475\n",
            "Epoch 46/50\n",
            "1875/1875 [==============================] - 18s 9ms/step - loss: 0.9111 - accuracy: 0.8543 - val_loss: 0.9643 - val_accuracy: 0.8464\n",
            "Epoch 47/50\n",
            "1875/1875 [==============================] - 17s 9ms/step - loss: 0.9110 - accuracy: 0.8544 - val_loss: 0.9648 - val_accuracy: 0.8460\n",
            "Epoch 48/50\n",
            "1875/1875 [==============================] - 18s 9ms/step - loss: 0.9101 - accuracy: 0.8548 - val_loss: 0.9608 - val_accuracy: 0.8467\n",
            "Epoch 49/50\n",
            "1875/1875 [==============================] - 18s 10ms/step - loss: 0.9096 - accuracy: 0.8545 - val_loss: 0.9633 - val_accuracy: 0.8468\n",
            "Epoch 50/50\n",
            "1875/1875 [==============================] - 18s 9ms/step - loss: 0.9096 - accuracy: 0.8549 - val_loss: 0.9653 - val_accuracy: 0.8466\n"
          ]
        }
      ]
    },
    {
      "cell_type": "code",
      "source": [
        "score = model.evaluate(X_test, y_test, verbose=0)\n",
        "print('Test loss:', score[0]) \n",
        "print('Test accuracy:', score[1])"
      ],
      "metadata": {
        "colab": {
          "base_uri": "https://localhost:8080/"
        },
        "id": "FB1x4XYtlSdj",
        "outputId": "97376748-6d7e-4666-b196-dd30652bd2b3"
      },
      "execution_count": null,
      "outputs": [
        {
          "output_type": "stream",
          "name": "stdout",
          "text": [
            "Test loss: 0.965295135974884\n",
            "Test accuracy: 0.8465999960899353\n"
          ]
        }
      ]
    },
    {
      "cell_type": "code",
      "source": [
        "# visualizing losses and accuracy\n",
        "%matplotlib inline\n",
        "\n",
        "train_loss=H.history['loss']\n",
        "val_loss=H.history['val_loss']\n",
        "train_acc=H.history['accuracy']\n",
        "val_acc=H.history['val_accuracy']\n",
        "\n",
        "epochs = range(len(train_acc))\n",
        "\n",
        "plt.plot(epochs,train_loss,'r', label='train_loss')\n",
        "plt.plot(epochs,val_loss,'b', label='val_loss')\n",
        "plt.title('train_loss vs val_loss')\n",
        "plt.legend()\n",
        "plt.figure()\n",
        "\n",
        "plt.plot(epochs,train_acc,'r', label='train_acc')\n",
        "plt.plot(epochs,val_acc,'b', label='val_acc')\n",
        "plt.title('train_acc vs val_acc')\n",
        "plt.legend()\n",
        "plt.figure()"
      ],
      "metadata": {
        "colab": {
          "base_uri": "https://localhost:8080/",
          "height": 582
        },
        "id": "3JL7boAfl07W",
        "outputId": "c7cedae8-e1e5-4790-d94f-589d6c623ff8"
      },
      "execution_count": null,
      "outputs": [
        {
          "output_type": "execute_result",
          "data": {
            "text/plain": [
              "<Figure size 432x288 with 0 Axes>"
            ]
          },
          "metadata": {},
          "execution_count": 48
        },
        {
          "output_type": "display_data",
          "data": {
            "text/plain": [
              "<Figure size 432x288 with 1 Axes>"
            ],
            "image/png": "[encoded data removed]"
          },
          "metadata": {
            "needs_background": "light"
          }
        },
        {
          "output_type": "display_data",
          "data": {
            "text/plain": [
              "<Figure size 432x288 with 1 Axes>"
            ],
            "image/png": "[encoded data removed]"
          },
          "metadata": {
            "needs_background": "light"
          }
        },
        {
          "output_type": "display_data",
          "data": {
            "text/plain": [
              "<Figure size 432x288 with 0 Axes>"
            ]
          },
          "metadata": {}
        }
      ]
    }
  ]
}