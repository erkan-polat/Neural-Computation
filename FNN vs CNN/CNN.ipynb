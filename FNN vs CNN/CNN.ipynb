{
  "nbformat": 4,
  "nbformat_minor": 0,
  "metadata": {
    "colab": {
      "name": "CNN",
      "provenance": [],
      "collapsed_sections": []
    },
    "kernelspec": {
      "name": "python3",
      "display_name": "Python 3"
    },
    "language_info": {
      "name": "python"
    }
  },
  "cells": [
    {
      "cell_type": "code",
      "execution_count": null,
      "metadata": {
        "colab": {
          "base_uri": "https://localhost:8080/"
        },
        "id": "5yZb-jqY6gcL",
        "outputId": "4ba444ae-d0c7-4b81-b2d9-fe2a09ef729b"
      },
      "outputs": [
        {
          "output_type": "stream",
          "name": "stdout",
          "text": [
            "2.8.2\n"
          ]
        }
      ],
      "source": [
        "import tarfile\n",
        "import os\n",
        "import tensorflow as tf\n",
        "\n",
        "# Helper libraries\n",
        "import numpy as np\n",
        "import matplotlib.pyplot as plt\n",
        "\n",
        "print(tf.__version__)\n",
        "\n",
        "import cv2\n",
        "import pandas as pd\n",
        "import numpy as np\n",
        "import matplotlib.pyplot as plt\n",
        "import matplotlib.image as mpimg\n",
        "import keras.optimizers\n",
        "from sklearn.preprocessing import LabelEncoder\n",
        "from keras import Sequential\n",
        "from keras.layers import Dense,Conv2D,Flatten,Dense,MaxPooling2D,Dropout\n",
        "import PIL\n",
        "from tensorflow.keras import layers\n",
        "from keras.models import Sequential\n",
        "import keras"
      ]
    },
    {
      "cell_type": "code",
      "source": [
        "mnist = tf.keras.datasets.mnist\n",
        "\n",
        "(X_train, y_train), (X_test, y_test) = mnist.load_data() "
      ],
      "metadata": {
        "id": "AcfkwGMB6rLj"
      },
      "execution_count": null,
      "outputs": []
    },
    {
      "cell_type": "code",
      "source": [
        "import matplotlib.pyplot as plt\n",
        "fig = plt.figure()\n",
        "for i in range(9):\n",
        "  plt.subplot(3,3,i+1)\n",
        "  plt.tight_layout()\n",
        "  plt.imshow(X_train[i], cmap='gray', interpolation='none')\n",
        "  plt.title(\"Digit: {}\".format(y_train[i]))\n",
        "  plt.xticks([])\n",
        "  plt.yticks([])\n",
        "fig"
      ],
      "metadata": {
        "colab": {
          "base_uri": "https://localhost:8080/",
          "height": 551
        },
        "id": "rlS8RdWc6rNh",
        "outputId": "c5bb7941-9008-4f03-aaca-34c9ec270141"
      },
      "execution_count": null,
      "outputs": [
        {
          "output_type": "execute_result",
          "data": {
            "text/plain": [
              "<Figure size 432x288 with 9 Axes>"
            ],
            "image/png": "[encoded data removed]"
          },
          "metadata": {},
          "execution_count": 96
        },
        {
          "output_type": "display_data",
          "data": {
            "text/plain": [
              "<Figure size 432x288 with 9 Axes>"
            ],
            "image/png": "[encoded data removed]"
          },
          "metadata": {}
        }
      ]
    },
    {
      "cell_type": "code",
      "source": [
        "\n",
        "img_rows , img_cols = 28, 28\n",
        "from keras import backend as k\n",
        "\n",
        "if k.image_data_format() == 'channels_first':\n",
        "    X_train = X_train.reshape(X_train.shape[0], 1, img_rows, img_cols)\n",
        "    X_test = X_test.reshape(X_test.shape[0], 1, img_rows, img_cols)\n",
        "    input_shape = (1, img_rows, img_cols)\n",
        "else:\n",
        "    X_train = X_train.reshape(X_train.shape[0], img_rows, img_cols, 1)\n",
        "    X_test = X_test.reshape(X_test.shape[0], img_rows, img_cols, 1)\n",
        "    input_shape = (img_rows, img_cols, 1)\n",
        "X_train = X_train.astype('float32')\n",
        "X_test = X_test.astype('float32')\n",
        "X_train /= 255\n",
        "X_test /= 255\n",
        "print('X_train shape:', X_train.shape)\n",
        "print(X_train.shape[0], 'train samples')\n",
        "print(X_test.shape[0], 'test samples')"
      ],
      "metadata": {
        "colab": {
          "base_uri": "https://localhost:8080/"
        },
        "id": "F5t-UZfI6rPm",
        "outputId": "c323407d-1414-4350-dcb3-4a8cc10b5eaf"
      },
      "execution_count": null,
      "outputs": [
        {
          "output_type": "stream",
          "name": "stdout",
          "text": [
            "X_train shape: (60000, 28, 28, 1)\n",
            "60000 train samples\n",
            "10000 test samples\n"
          ]
        }
      ]
    },
    {
      "cell_type": "code",
      "source": [
        "num_category = 10\n",
        "y_train = keras.utils.np_utils.to_categorical(y_train, num_category)\n",
        "y_test = keras.utils.np_utils.to_categorical(y_test, num_category)\n",
        "y_train[0]"
      ],
      "metadata": {
        "colab": {
          "base_uri": "https://localhost:8080/"
        },
        "id": "3yxaFL7_6rRs",
        "outputId": "a8f0f1ef-b344-4464-80c3-28f19bd8d749"
      },
      "execution_count": null,
      "outputs": [
        {
          "output_type": "execute_result",
          "data": {
            "text/plain": [
              "array([0., 0., 0., 0., 0., 1., 0., 0., 0., 0.], dtype=float32)"
            ]
          },
          "metadata": {},
          "execution_count": 98
        }
      ]
    },
    {
      "cell_type": "code",
      "source": [
        "model = tf.keras.Sequential([\n",
        "\n",
        "         tf.keras.layers.Conv2D(32, kernel_size=(3, 3),\n",
        "                 activation='relu',\n",
        "                 input_shape=input_shape),\n",
        "         \n",
        "         tf.keras.layers.Conv2D(64, (3, 3), activation='relu'),\n",
        "         tf.keras.layers.MaxPooling2D(pool_size=(2, 2)),\n",
        "         tf.keras.layers.Dropout(0.25),\n",
        "         tf.keras.layers.Flatten(),\n",
        "         tf.keras.layers.Dense(128, activation='relu'),\n",
        "         tf.keras.layers.Dropout(0.5),\n",
        "         tf.keras.layers.Dense(num_category, activation='softmax'),\n",
        "\n",
        "\n",
        "         ])\n"
      ],
      "metadata": {
        "id": "ntSy_x0_6rTZ"
      },
      "execution_count": null,
      "outputs": []
    },
    {
      "cell_type": "code",
      "source": [
        "model.compile(loss=keras.losses.categorical_crossentropy,\n",
        "              optimizer=tf.keras.optimizers.Adam(),\n",
        "              metrics=['accuracy'])"
      ],
      "metadata": {
        "id": "DkmYHgYj6ydk"
      },
      "execution_count": null,
      "outputs": []
    },
    {
      "cell_type": "code",
      "source": [
        "model.summary()"
      ],
      "metadata": {
        "colab": {
          "base_uri": "https://localhost:8080/"
        },
        "id": "wu0UJ9F_R6HU",
        "outputId": "20057ad7-9d5e-4d1d-fa1f-bf4365654d88"
      },
      "execution_count": null,
      "outputs": [
        {
          "output_type": "stream",
          "name": "stdout",
          "text": [
            "Model: \"sequential_14\"\n",
            "_________________________________________________________________\n",
            " Layer (type)                Output Shape              Param #   \n",
            "=================================================================\n",
            " conv2d_18 (Conv2D)          (None, 26, 26, 32)        320       \n",
            "                                                                 \n",
            " conv2d_19 (Conv2D)          (None, 24, 24, 64)        18496     \n",
            "                                                                 \n",
            " max_pooling2d_9 (MaxPooling  (None, 12, 12, 64)       0         \n",
            " 2D)                                                             \n",
            "                                                                 \n",
            " dropout_18 (Dropout)        (None, 12, 12, 64)        0         \n",
            "                                                                 \n",
            " flatten_12 (Flatten)        (None, 9216)              0         \n",
            "                                                                 \n",
            " dense_21 (Dense)            (None, 128)               1179776   \n",
            "                                                                 \n",
            " dropout_19 (Dropout)        (None, 128)               0         \n",
            "                                                                 \n",
            " dense_22 (Dense)            (None, 10)                1290      \n",
            "                                                                 \n",
            "=================================================================\n",
            "Total params: 1,199,882\n",
            "Trainable params: 1,199,882\n",
            "Non-trainable params: 0\n",
            "_________________________________________________________________\n"
          ]
        }
      ]
    },
    {
      "cell_type": "code",
      "source": [
        "H = model.fit(X_train, y_train, batch_size=128, epochs=50, verbose=1, validation_data=(X_test, y_test))"
      ],
      "metadata": {
        "colab": {
          "base_uri": "https://localhost:8080/"
        },
        "id": "7wr0rqiD6yfz",
        "outputId": "f5936fef-e352-460a-e63d-f358e3395b67"
      },
      "execution_count": null,
      "outputs": [
        {
          "output_type": "stream",
          "name": "stdout",
          "text": [
            "Epoch 1/50\n",
            "469/469 [==============================] - 150s 319ms/step - loss: 0.0829 - accuracy: 0.9756 - val_loss: 0.0367 - val_accuracy: 0.9885\n",
            "Epoch 2/50\n",
            "469/469 [==============================] - 156s 333ms/step - loss: 0.0640 - accuracy: 0.9802 - val_loss: 0.0336 - val_accuracy: 0.9884\n",
            "Epoch 3/50\n",
            "469/469 [==============================] - 151s 322ms/step - loss: 0.0528 - accuracy: 0.9839 - val_loss: 0.0317 - val_accuracy: 0.9898\n",
            "Epoch 4/50\n",
            "469/469 [==============================] - 149s 317ms/step - loss: 0.0430 - accuracy: 0.9869 - val_loss: 0.0295 - val_accuracy: 0.9903\n",
            "Epoch 5/50\n",
            "469/469 [==============================] - 149s 317ms/step - loss: 0.0405 - accuracy: 0.9875 - val_loss: 0.0299 - val_accuracy: 0.9904\n",
            "Epoch 6/50\n",
            "469/469 [==============================] - 148s 316ms/step - loss: 0.0337 - accuracy: 0.9895 - val_loss: 0.0280 - val_accuracy: 0.9908\n",
            "Epoch 7/50\n",
            "469/469 [==============================] - 147s 313ms/step - loss: 0.0306 - accuracy: 0.9906 - val_loss: 0.0286 - val_accuracy: 0.9912\n",
            "Epoch 8/50\n",
            "469/469 [==============================] - 147s 312ms/step - loss: 0.0275 - accuracy: 0.9909 - val_loss: 0.0284 - val_accuracy: 0.9915\n",
            "Epoch 9/50\n",
            "469/469 [==============================] - 148s 316ms/step - loss: 0.0270 - accuracy: 0.9913 - val_loss: 0.0260 - val_accuracy: 0.9922\n",
            "Epoch 10/50\n",
            "469/469 [==============================] - 147s 313ms/step - loss: 0.0249 - accuracy: 0.9913 - val_loss: 0.0253 - val_accuracy: 0.9920\n",
            "Epoch 11/50\n",
            "469/469 [==============================] - 148s 317ms/step - loss: 0.0227 - accuracy: 0.9926 - val_loss: 0.0289 - val_accuracy: 0.9927\n",
            "Epoch 12/50\n",
            "469/469 [==============================] - 149s 319ms/step - loss: 0.0209 - accuracy: 0.9932 - val_loss: 0.0284 - val_accuracy: 0.9923\n",
            "Epoch 13/50\n",
            "469/469 [==============================] - 148s 317ms/step - loss: 0.0211 - accuracy: 0.9930 - val_loss: 0.0292 - val_accuracy: 0.9923\n",
            "Epoch 14/50\n",
            "469/469 [==============================] - 147s 313ms/step - loss: 0.0189 - accuracy: 0.9937 - val_loss: 0.0300 - val_accuracy: 0.9923\n",
            "Epoch 15/50\n",
            "469/469 [==============================] - 146s 311ms/step - loss: 0.0177 - accuracy: 0.9941 - val_loss: 0.0285 - val_accuracy: 0.9924\n",
            "Epoch 16/50\n",
            "469/469 [==============================] - 148s 316ms/step - loss: 0.0159 - accuracy: 0.9945 - val_loss: 0.0272 - val_accuracy: 0.9930\n",
            "Epoch 17/50\n",
            "469/469 [==============================] - 147s 314ms/step - loss: 0.0139 - accuracy: 0.9951 - val_loss: 0.0284 - val_accuracy: 0.9931\n",
            "Epoch 18/50\n",
            "469/469 [==============================] - 146s 312ms/step - loss: 0.0152 - accuracy: 0.9951 - val_loss: 0.0279 - val_accuracy: 0.9935\n",
            "Epoch 19/50\n",
            "469/469 [==============================] - 147s 314ms/step - loss: 0.0144 - accuracy: 0.9955 - val_loss: 0.0291 - val_accuracy: 0.9924\n",
            "Epoch 20/50\n",
            "469/469 [==============================] - 146s 311ms/step - loss: 0.0140 - accuracy: 0.9952 - val_loss: 0.0291 - val_accuracy: 0.9927\n",
            "Epoch 21/50\n",
            "469/469 [==============================] - 146s 310ms/step - loss: 0.0134 - accuracy: 0.9955 - val_loss: 0.0276 - val_accuracy: 0.9927\n",
            "Epoch 22/50\n",
            "469/469 [==============================] - 145s 310ms/step - loss: 0.0138 - accuracy: 0.9952 - val_loss: 0.0337 - val_accuracy: 0.9919\n",
            "Epoch 23/50\n",
            "469/469 [==============================] - 147s 313ms/step - loss: 0.0124 - accuracy: 0.9957 - val_loss: 0.0276 - val_accuracy: 0.9937\n",
            "Epoch 24/50\n",
            "469/469 [==============================] - 145s 310ms/step - loss: 0.0123 - accuracy: 0.9958 - val_loss: 0.0272 - val_accuracy: 0.9936\n",
            "Epoch 25/50\n",
            "469/469 [==============================] - 146s 310ms/step - loss: 0.0115 - accuracy: 0.9961 - val_loss: 0.0287 - val_accuracy: 0.9934\n",
            "Epoch 26/50\n",
            "469/469 [==============================] - 147s 313ms/step - loss: 0.0097 - accuracy: 0.9966 - val_loss: 0.0302 - val_accuracy: 0.9931\n",
            "Epoch 27/50\n",
            "469/469 [==============================] - 147s 313ms/step - loss: 0.0108 - accuracy: 0.9962 - val_loss: 0.0320 - val_accuracy: 0.9929\n",
            "Epoch 28/50\n",
            "469/469 [==============================] - 146s 312ms/step - loss: 0.0107 - accuracy: 0.9963 - val_loss: 0.0336 - val_accuracy: 0.9918\n",
            "Epoch 29/50\n",
            "469/469 [==============================] - 147s 314ms/step - loss: 0.0090 - accuracy: 0.9969 - val_loss: 0.0368 - val_accuracy: 0.9931\n",
            "Epoch 30/50\n",
            "469/469 [==============================] - 147s 314ms/step - loss: 0.0090 - accuracy: 0.9967 - val_loss: 0.0327 - val_accuracy: 0.9933\n",
            "Epoch 31/50\n",
            "469/469 [==============================] - 146s 311ms/step - loss: 0.0097 - accuracy: 0.9967 - val_loss: 0.0334 - val_accuracy: 0.9926\n",
            "Epoch 32/50\n",
            "469/469 [==============================] - 147s 313ms/step - loss: 0.0088 - accuracy: 0.9968 - val_loss: 0.0332 - val_accuracy: 0.9936\n",
            "Epoch 33/50\n",
            "469/469 [==============================] - 147s 313ms/step - loss: 0.0085 - accuracy: 0.9971 - val_loss: 0.0340 - val_accuracy: 0.9927\n",
            "Epoch 34/50\n",
            "469/469 [==============================] - 146s 311ms/step - loss: 0.0098 - accuracy: 0.9967 - val_loss: 0.0415 - val_accuracy: 0.9930\n",
            "Epoch 35/50\n",
            "469/469 [==============================] - 146s 311ms/step - loss: 0.0087 - accuracy: 0.9969 - val_loss: 0.0393 - val_accuracy: 0.9929\n",
            "Epoch 36/50\n",
            "469/469 [==============================] - 147s 313ms/step - loss: 0.0088 - accuracy: 0.9969 - val_loss: 0.0406 - val_accuracy: 0.9927\n",
            "Epoch 37/50\n",
            "469/469 [==============================] - 147s 313ms/step - loss: 0.0071 - accuracy: 0.9975 - val_loss: 0.0406 - val_accuracy: 0.9930\n",
            "Epoch 38/50\n",
            "469/469 [==============================] - 146s 312ms/step - loss: 0.0094 - accuracy: 0.9972 - val_loss: 0.0333 - val_accuracy: 0.9937\n",
            "Epoch 39/50\n",
            "469/469 [==============================] - 146s 311ms/step - loss: 0.0090 - accuracy: 0.9973 - val_loss: 0.0349 - val_accuracy: 0.9935\n",
            "Epoch 40/50\n",
            "469/469 [==============================] - 147s 314ms/step - loss: 0.0079 - accuracy: 0.9973 - val_loss: 0.0380 - val_accuracy: 0.9930\n",
            "Epoch 41/50\n",
            "469/469 [==============================] - 145s 310ms/step - loss: 0.0066 - accuracy: 0.9978 - val_loss: 0.0369 - val_accuracy: 0.9936\n",
            "Epoch 42/50\n",
            "469/469 [==============================] - 146s 311ms/step - loss: 0.0092 - accuracy: 0.9973 - val_loss: 0.0331 - val_accuracy: 0.9932\n",
            "Epoch 43/50\n",
            "469/469 [==============================] - 147s 314ms/step - loss: 0.0079 - accuracy: 0.9976 - val_loss: 0.0362 - val_accuracy: 0.9935\n",
            "Epoch 44/50\n",
            "469/469 [==============================] - 148s 316ms/step - loss: 0.0076 - accuracy: 0.9976 - val_loss: 0.0362 - val_accuracy: 0.9924\n",
            "Epoch 45/50\n",
            "469/469 [==============================] - 146s 311ms/step - loss: 0.0076 - accuracy: 0.9976 - val_loss: 0.0391 - val_accuracy: 0.9929\n",
            "Epoch 46/50\n",
            "469/469 [==============================] - 146s 312ms/step - loss: 0.0063 - accuracy: 0.9977 - val_loss: 0.0434 - val_accuracy: 0.9918\n",
            "Epoch 47/50\n",
            "469/469 [==============================] - 147s 312ms/step - loss: 0.0073 - accuracy: 0.9974 - val_loss: 0.0389 - val_accuracy: 0.9926\n",
            "Epoch 48/50\n",
            "469/469 [==============================] - 148s 315ms/step - loss: 0.0068 - accuracy: 0.9977 - val_loss: 0.0421 - val_accuracy: 0.9930\n",
            "Epoch 49/50\n",
            "469/469 [==============================] - 147s 313ms/step - loss: 0.0061 - accuracy: 0.9981 - val_loss: 0.0458 - val_accuracy: 0.9923\n",
            "Epoch 50/50\n",
            "469/469 [==============================] - 147s 313ms/step - loss: 0.0077 - accuracy: 0.9976 - val_loss: 0.0418 - val_accuracy: 0.9930\n"
          ]
        }
      ]
    },
    {
      "cell_type": "code",
      "source": [
        "score = model.evaluate(X_test, y_test, verbose=0)\n",
        "print('Test loss:', score[0]) \n",
        "print('Test accuracy:', score[1]) "
      ],
      "metadata": {
        "colab": {
          "base_uri": "https://localhost:8080/"
        },
        "id": "DpGDbxml6ymc",
        "outputId": "ea64bad6-91c2-4c5e-dac6-62b7f00ce75b"
      },
      "execution_count": null,
      "outputs": [
        {
          "output_type": "stream",
          "name": "stdout",
          "text": [
            "Test loss: 0.04184624180197716\n",
            "Test accuracy: 0.9929999709129333\n"
          ]
        }
      ]
    },
    {
      "cell_type": "code",
      "source": [
        "train_loss=H.history['loss']\n",
        "val_loss=H.history['val_loss']\n",
        "train_acc=H.history['accuracy']\n",
        "val_acc=H.history['val_accuracy']\n",
        "\n",
        "epochs = range(len(train_acc))\n",
        "\n",
        "plt.plot(epochs,train_loss,'r', label='train_loss')\n",
        "plt.plot(epochs,val_loss,'b', label='val_loss')\n",
        "plt.title('train_loss vs val_loss')\n",
        "plt.legend()\n",
        "plt.figure()\n",
        "\n",
        "plt.plot(epochs,train_acc,'r', label='train_acc')\n",
        "plt.plot(epochs,val_acc,'b', label='val_acc')\n",
        "plt.title('train_acc vs val_acc')\n",
        "plt.legend()\n",
        "plt.figure()\n",
        "plt.figure()"
      ],
      "metadata": {
        "colab": {
          "base_uri": "https://localhost:8080/",
          "height": 600
        },
        "id": "8K_uGdCe77U3",
        "outputId": "83907ba5-d43c-4234-93de-6344cbb0ca90"
      },
      "execution_count": null,
      "outputs": [
        {
          "output_type": "execute_result",
          "data": {
            "text/plain": [
              "<Figure size 432x288 with 0 Axes>"
            ]
          },
          "metadata": {},
          "execution_count": 119
        },
        {
          "output_type": "display_data",
          "data": {
            "text/plain": [
              "<Figure size 432x288 with 1 Axes>"
            ],
            "image/png": "[encoded data removed]"
          },
          "metadata": {
            "needs_background": "light"
          }
        },
        {
          "output_type": "display_data",
          "data": {
            "text/plain": [
              "<Figure size 432x288 with 1 Axes>"
            ],
            "image/png": "[encoded data removed]"
          },
          "metadata": {
            "needs_background": "light"
          }
        },
        {
          "output_type": "display_data",
          "data": {
            "text/plain": [
              "<Figure size 432x288 with 0 Axes>"
            ]
          },
          "metadata": {}
        },
        {
          "output_type": "display_data",
          "data": {
            "text/plain": [
              "<Figure size 432x288 with 0 Axes>"
            ]
          },
          "metadata": {}
        }
      ]
    },
    {
      "cell_type": "code",
      "source": [
        "data_augmentation = keras.Sequential(\n",
        "  [\n",
        "    layers.experimental.preprocessing.RandomFlip(\"horizontal\", \n",
        "                                                 input_shape=input_shape),\n",
        "    layers.experimental.preprocessing.RandomRotation(0.1),\n",
        "    layers.experimental.preprocessing.RandomZoom(0.1),\n",
        "  ]\n",
        ")"
      ],
      "metadata": {
        "id": "dQgLcL-oTZup"
      },
      "execution_count": null,
      "outputs": []
    }
  ]
}